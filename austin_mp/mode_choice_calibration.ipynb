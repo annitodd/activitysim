{
 "cells": [
  {
   "cell_type": "markdown",
   "metadata": {},
   "source": [
    "# Mode choice calibration "
   ]
  },
  {
   "cell_type": "markdown",
   "metadata": {},
   "source": [
    "- Read original coeff csv file\n",
    "- Change +- 20% of coefficients \n",
    "- Save change in a new csv file\n",
    "- Update yaml file with new file name"
   ]
  },
  {
   "cell_type": "code",
   "execution_count": 1,
   "metadata": {},
   "outputs": [],
   "source": [
    "import pandas as pd \n",
    "import yaml"
   ]
  },
  {
   "cell_type": "code",
   "execution_count": 2,
   "metadata": {},
   "outputs": [],
   "source": [
    "hdf = pd.HDFStore('output/pipeline.h5')"
   ]
  },
  {
   "cell_type": "code",
   "execution_count": 3,
   "metadata": {},
   "outputs": [
    {
     "data": {
      "text/plain": [
       "['/checkpoints',\n",
       " '/workplace_modeled_size/tour_mode_choice_simulate',\n",
       " '/workplace_destination_size/tour_mode_choice_simulate',\n",
       " '/tours/tour_mode_choice_simulate',\n",
       " '/school_modeled_size/tour_mode_choice_simulate',\n",
       " '/school_destination_size/tour_mode_choice_simulate',\n",
       " '/persons/tour_mode_choice_simulate',\n",
       " '/person_windows/tour_mode_choice_simulate',\n",
       " '/land_use/tour_mode_choice_simulate',\n",
       " '/joint_tour_participants/tour_mode_choice_simulate',\n",
       " '/households/tour_mode_choice_simulate',\n",
       " '/accessibility/tour_mode_choice_simulate']"
      ]
     },
     "execution_count": 3,
     "metadata": {},
     "output_type": "execute_result"
    }
   ],
   "source": [
    "hdf.keys()"
   ]
  },
  {
   "cell_type": "code",
   "execution_count": 5,
   "metadata": {},
   "outputs": [
    {
     "data": {
      "text/html": [
       "<div>\n",
       "<style scoped>\n",
       "    .dataframe tbody tr th:only-of-type {\n",
       "        vertical-align: middle;\n",
       "    }\n",
       "\n",
       "    .dataframe tbody tr th {\n",
       "        vertical-align: top;\n",
       "    }\n",
       "\n",
       "    .dataframe thead th {\n",
       "        text-align: right;\n",
       "    }\n",
       "</style>\n",
       "<table border=\"1\" class=\"dataframe\">\n",
       "  <thead>\n",
       "    <tr style=\"text-align: right;\">\n",
       "      <th></th>\n",
       "      <th>checkpoint_name</th>\n",
       "      <th>land_use</th>\n",
       "      <th>accessibility</th>\n",
       "      <th>school_destination_size</th>\n",
       "      <th>workplace_destination_size</th>\n",
       "      <th>school_modeled_size</th>\n",
       "      <th>workplace_modeled_size</th>\n",
       "      <th>person_windows</th>\n",
       "      <th>households</th>\n",
       "      <th>persons</th>\n",
       "      <th>tours</th>\n",
       "      <th>joint_tour_participants</th>\n",
       "      <th>timestamp</th>\n",
       "    </tr>\n",
       "  </thead>\n",
       "  <tbody>\n",
       "    <tr>\n",
       "      <th>0</th>\n",
       "      <td>tour_mode_choice_simulate</td>\n",
       "      <td>tour_mode_choice_simulate</td>\n",
       "      <td>tour_mode_choice_simulate</td>\n",
       "      <td>tour_mode_choice_simulate</td>\n",
       "      <td>tour_mode_choice_simulate</td>\n",
       "      <td>tour_mode_choice_simulate</td>\n",
       "      <td>tour_mode_choice_simulate</td>\n",
       "      <td>tour_mode_choice_simulate</td>\n",
       "      <td>tour_mode_choice_simulate</td>\n",
       "      <td>tour_mode_choice_simulate</td>\n",
       "      <td>tour_mode_choice_simulate</td>\n",
       "      <td>tour_mode_choice_simulate</td>\n",
       "      <td>2020-09-17 22:45:56.389834</td>\n",
       "    </tr>\n",
       "  </tbody>\n",
       "</table>\n",
       "</div>"
      ],
      "text/plain": [
       "             checkpoint_name                   land_use  \\\n",
       "0  tour_mode_choice_simulate  tour_mode_choice_simulate   \n",
       "\n",
       "               accessibility    school_destination_size  \\\n",
       "0  tour_mode_choice_simulate  tour_mode_choice_simulate   \n",
       "\n",
       "  workplace_destination_size        school_modeled_size  \\\n",
       "0  tour_mode_choice_simulate  tour_mode_choice_simulate   \n",
       "\n",
       "      workplace_modeled_size             person_windows  \\\n",
       "0  tour_mode_choice_simulate  tour_mode_choice_simulate   \n",
       "\n",
       "                  households                    persons  \\\n",
       "0  tour_mode_choice_simulate  tour_mode_choice_simulate   \n",
       "\n",
       "                       tours    joint_tour_participants  \\\n",
       "0  tour_mode_choice_simulate  tour_mode_choice_simulate   \n",
       "\n",
       "                   timestamp  \n",
       "0 2020-09-17 22:45:56.389834  "
      ]
     },
     "execution_count": 5,
     "metadata": {},
     "output_type": "execute_result"
    }
   ],
   "source": [
    "hdf['/checkpoints']"
   ]
  },
  {
   "cell_type": "code",
   "execution_count": 241,
   "metadata": {},
   "outputs": [],
   "source": [
    "coeffs = pd.read_csv('configs/configs/tour_mode_choice_coeffs.csv', \n",
    "                     index_col = 'Expression')\n",
    "\n",
    "coeff_t = coeffs.drop(columns= 'atwork').T\n",
    "at_work_coeff = coeffs['atwork'].reset_index(drop = True)"
   ]
  },
  {
   "cell_type": "code",
   "execution_count": 242,
   "metadata": {},
   "outputs": [],
   "source": [
    "# coeff_t['c_ivt'] = 1.2 * coeff_t['c_ivt'].astype(float)\n",
    "\n",
    "# Walk access and egress. #20% greater For walk to transit options\n",
    "c_ivt_coeff = ['c_wacc', 'c_wegr']\n",
    "for col_name in c_ivt_coeff:\n",
    "    # Split str colum in float and str part. \n",
    "    split = coeff_t[col_name].str.split('*', expand = True) \n",
    "    split[0] = (split[0].astype(float)*1.2).astype(str)\n",
    "    new_col= split[0] + '*' + split[1] \n",
    "    coeff_t[col_name] = new_col\n",
    "    \n",
    "# Walking time: Modify coefficient by 20%\n",
    "c_ivt_coeff = ['c_walktimeshort', 'c_walktimelong']\n",
    "for col_name in c_ivt_coeff:\n",
    "    # Split str colum in float and str part. \n",
    "    split = coeff_t[col_name].str.split('*', expand = True) \n",
    "    split[0] = (split[0].astype(float)*0.8).astype(str)\n",
    "    new_col= split[0] + '*' + split[1] \n",
    "    coeff_t[col_name] = new_col"
   ]
  },
  {
   "cell_type": "code",
   "execution_count": 243,
   "metadata": {},
   "outputs": [],
   "source": [
    "# Modify constants \n",
    "\n",
    "# NonMontorized and Auto ASC. 20% Greater\n",
    "walk_asc = ['walk_ASC_no_auto', 'walk_ASC_auto_decicient', 'walk_ASC_auto_sufficient',\n",
    "            'joint_walk_ASC_no_auto', 'joint_walk_ASC_auto_decicient', \n",
    "            'joint_walk_ASC_auto_sufficient', 'sr2_ASC_auto_decicient',\n",
    "            'sr2_ASC_auto_sufficient', 'sr3p_ASC_no_auto', \n",
    "            'sr3p_ASC_auto_decicient','sr3p_ASC_auto_sufficient']\n",
    "for col_name in walk_asc:\n",
    "    col = coeff_t[col_name].astype(float)\n",
    "    col.where(col<0,col*1.2, inplace = True)  \n",
    "    col.where(col>0,col*0.8, inplace = True) \n",
    "    coeff_t[col_name] = col\n",
    "    \n",
    "\n",
    "# Walk and drive to transit ASC:\n",
    "walk_drive_transit_asc = ['walk_transit_ASC_no_auto', \n",
    "                          'walk_transit_ASC_auto_decicient',\n",
    "                          'walk_transit_ASC_auto_sufficient', \n",
    "                          'drive_transit_ASC_auto_decicient',\n",
    "                          'drive_transit_ASC_auto_sufficient',\n",
    "                          'walk_transit_CBD_ASC', 'drive_transit_CBD_ASC',\n",
    "                          'local_bus_ASC', 'joint_walk_transit_ASC_no_auto',\n",
    "                          'joint_walk_transit_ASC_auto_decicient',\n",
    "                          'joint_walk_transit_ASC_auto_sufficient',\n",
    "                          'joint_drive_transit_ASC_auto_decicient',\n",
    "                          'joint_drive_transit_ASC_auto_sufficient']\n",
    "\n",
    "#Greater modification to account for waiting and transfer time \n",
    "#TO DO: Modify when better waiting and tranfer skims are available. \n",
    "for col_name in walk_drive_transit_asc:\n",
    "    col = coeff_t[col_name].astype(float)\n",
    "    col.where(col>0,col*1.5, inplace = True)\n",
    "    col.where(col<0,col*0.7, inplace = True)\n",
    "    coeff_t[col_name] = col"
   ]
  },
  {
   "cell_type": "code",
   "execution_count": 244,
   "metadata": {},
   "outputs": [],
   "source": [
    "#Transpose and append 'atwork' coefficients\n",
    "coeff_final = coeff_t.T.reset_index()\n",
    "coeff_final['atwork'] = at_work_coeff\n",
    "\n",
    "#Saves files as V2\n",
    "new_name = 'tour_mode_choice_coeffs_v2.csv'\n",
    "coeff_final.to_csv('configs/configs/'+ new_name, index = False)"
   ]
  },
  {
   "cell_type": "markdown",
   "metadata": {},
   "source": [
    "## Modify YAML file"
   ]
  },
  {
   "cell_type": "code",
   "execution_count": 245,
   "metadata": {},
   "outputs": [],
   "source": [
    "#Tour .yaml file \n",
    "yaml_file = open('configs/configs/tour_mode_choice.yaml')\n",
    "model_settings = yaml.load(yaml_file, Loader=yaml.FullLoader)\n",
    "\n",
    "# Change CostPerMile \n",
    "model_settings['CONSTANTS']['costPerMile'] = 18.29 * 0.8 #Reduce cost per mile\n",
    "\n",
    "#Walk speed and treshold\n",
    "model_settings['CONSTANTS']['walkThresh'] = 2 # Before 1.5\n",
    "model_settings['CONSTANTS']['walkSpeed'] = 3.5 #Before 3.0\n",
    "\n",
    "#Modify Coeffs.csv file \n",
    "model_settings['COEFFS'] = new_name\n",
    "\n",
    "#Saves File \n",
    "with open('configs/configs/tour_mode_choice.yaml', 'w') as file:\n",
    "    documents = yaml.dump(model_settings, file)"
   ]
  },
  {
   "cell_type": "code",
   "execution_count": 246,
   "metadata": {},
   "outputs": [],
   "source": [
    "#Trips .yaml file \n",
    "yaml_file = open('configs/configs/trip_mode_choice.yaml')\n",
    "model_settings = yaml.load(yaml_file, Loader=yaml.FullLoader)\n",
    "\n",
    "model_settings['CONSTANTS']['costPerMile'] = 18.29 * 0.8 #Reduce cost per mile\n",
    "model_settings['CONSTANTS']['walkThresh'] = 2 # Before 1.5\n",
    "model_settings['CONSTANTS']['walkSpeed'] = 3.5 #Before 3.0\n",
    "\n",
    "#Saves file\n",
    "with open('configs/configs/trip_mode_choice.yaml', 'w') as file:\n",
    "    documents = yaml.dump(model_settings, file)"
   ]
  }
 ],
 "metadata": {
  "kernelspec": {
   "display_name": "Python 3",
   "language": "python",
   "name": "python3"
  },
  "language_info": {
   "codemirror_mode": {
    "name": "ipython",
    "version": 3
   },
   "file_extension": ".py",
   "mimetype": "text/x-python",
   "name": "python",
   "nbconvert_exporter": "python",
   "pygments_lexer": "ipython3",
   "version": "3.7.7"
  }
 },
 "nbformat": 4,
 "nbformat_minor": 4
}
