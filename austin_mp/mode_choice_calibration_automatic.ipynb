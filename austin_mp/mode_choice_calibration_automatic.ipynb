{
 "cells": [
  {
   "cell_type": "markdown",
   "metadata": {},
   "source": [
    "# Tour mode choice \n",
    "\n",
    "This notebooks runs 10.000 households (random sample) to calibrate the tour mode choice. It first runs all the models up to \"tour_mode_choice_simulate\". At this point, we will run a grid search-like algorithm to re-calibrate the coefficients for the tour mode choice\n",
    "    "
   ]
  },
  {
   "cell_type": "code",
   "execution_count": 1,
   "metadata": {},
   "outputs": [],
   "source": [
    "import sys\n",
    "import logging\n",
    "import pandas as pd\n",
    "import numpy as np\n",
    "import matplotlib.pyplot as plt\n",
    "import seaborn as sns\n",
    "import orca\n",
    "import time\n",
    "import geopandas as gpd\n",
    "import yaml\n",
    "\n",
    "from activitysim.core import mem\n",
    "from activitysim.core import inject\n",
    "from activitysim.core import tracing\n",
    "from activitysim.core import config\n",
    "from activitysim.core import pipeline\n",
    "from activitysim.core import mp_tasks\n",
    "from activitysim.core import chunk"
   ]
  },
  {
   "cell_type": "markdown",
   "metadata": {},
   "source": [
    "## Setting configurations files "
   ]
  },
  {
   "cell_type": "code",
   "execution_count": 2,
   "metadata": {},
   "outputs": [],
   "source": [
    "#Define injectables\n",
    "inject.add_injectable('data_dir', 'data')\n",
    "inject.add_injectable('configs_dir', ['configs', 'configs/configs'])\n",
    "inject.add_injectable('output_dir', 'output')\n",
    "# inject.get_injectable('configs_dir')\n",
    "\n",
    "#Injectables list \n",
    "injectables = ['configs_dir', 'data_dir', 'output_dir']\n",
    "\n",
    "#Configs files\n",
    "run_list = mp_tasks.get_run_list()\n",
    "\n",
    "# Injectables to dict \n",
    "injectables = list(set(injectables) | set(['data_dir', 'configs_dir', 'output_dir']))\n",
    "injectables = {k: inject.get_injectable(k) for k in injectables}"
   ]
  },
  {
   "cell_type": "markdown",
   "metadata": {},
   "source": [
    "## Running model for the first time "
   ]
  },
  {
   "cell_type": "code",
   "execution_count": 3,
   "metadata": {},
   "outputs": [
    {
     "name": "stderr",
     "output_type": "stream",
     "text": [
      "numpy: Warning: underflow encountered in exp expression: _decay = _rt_available * exp(_trPkTime * dispersion_parameter_transit)\n",
      "numpy: Warning: underflow encountered in exp expression: _decay = _rt_available * exp(_trOpTime * dispersion_parameter_transit)\n",
      "numpy: Warning: underflow encountered in exp expression: _decay = _rt_available * exp(_nmDist * dispersion_parameter_walk)\n"
     ]
    },
    {
     "name": "stdout",
     "output_type": "stream",
     "text": [
      "CPU times: user 7min 22s, sys: 41.3 s, total: 8min 3s\n",
      "Wall time: 5min 16s\n"
     ]
    }
   ],
   "source": [
    "%%time \n",
    "# Running models for the first time (current Mode choice specification)\n",
    "pipeline.run(models = run_list['models'])\n",
    "pipeline.close_pipeline()"
   ]
  },
  {
   "cell_type": "markdown",
   "metadata": {},
   "source": [
    "## Grid search-like algortighm \n",
    "\n",
    "### Big picture: \n",
    "- Create a function that calculates the best coefficients \n",
    "    grid_search_iterations()\n",
    "    - Iteration 1: \n",
    "        run_time: \n",
    "        best_score: \n",
    "        score_reduction: \n",
    "\n",
    "- Select the variables that I may want to change \n",
    "- Create random vectors with those variable (or random search) \n",
    "- Try each random vector \n",
    "- Define the target distributions (this is very simple because it is just the mode choice share)\n",
    "- Reduce range for random vector generations (average of the best 10/20th scores) #I need to make this decison \n",
    "- Generate new random vectors \n",
    "- Try each vector and get restuls \n",
    "\n",
    "Diferences from the car_ownership model: \n",
    "- This time I take advantage of the modeling framework to run the simulations instead of coding the simulations myself. This is desirable because the mode choice has many variables to look at, and there is not a sinlge table that summarize the variables the model uses. "
   ]
  },
  {
   "cell_type": "code",
   "execution_count": 4,
   "metadata": {},
   "outputs": [],
   "source": [
    "def grid_cheker(grids):\n",
    "    \"\"\" Proves if grid has a reasonable shape\"\"\"\n",
    "    assert type(grids) is tuple\n",
    "    assert isinstance(grids[0], np.ndarray)\n",
    "    assert isinstance(grids[1], np.ndarray)\n",
    "    assert isinstance(grids[2], np.ndarray)\n",
    "    assert grids[0].shape == (216,11)\n",
    "    assert grids[1].shape == (36, 11)\n",
    "    assert grids[2].shape == (3,11)"
   ]
  },
  {
   "cell_type": "code",
   "execution_count": 5,
   "metadata": {},
   "outputs": [],
   "source": [
    "def transpose(df):\n",
    "    ''' Drops the \"atwork subtour colum, and transporse the resutling dataframe\"'''\n",
    "    return df.drop(columns= 'atwork').T"
   ]
  },
  {
   "cell_type": "code",
   "execution_count": 6,
   "metadata": {},
   "outputs": [],
   "source": [
    "def initialize_grid(coeffs, yaml_file):\n",
    "    \"\"\" Initialize the grids for the ASC, alternative specific and some other constant. \n",
    "        Returns:\n",
    "            - grids: Tuple. Initilazed grids elements. \n",
    "                     Tuple with three elements corresponding to ASC, alternative_specific and yaml_file. \n",
    "            - attributes: Tuple. Initialzied attributes to produce files of a random selection. \n",
    "            \n",
    "    \"\"\"\n",
    "    \n",
    "    asc_names = ['walk_ASC_no_auto', 'walk_ASC_auto_decicient', 'walk_ASC_auto_sufficient',\n",
    "            'joint_walk_ASC_no_auto', 'joint_walk_ASC_auto_decicient', \n",
    "            'joint_walk_ASC_auto_sufficient', 'sr2_ASC_auto_decicient',\n",
    "            'sr2_ASC_auto_sufficient', 'sr3p_ASC_no_auto', \n",
    "            'sr3p_ASC_auto_decicient','sr3p_ASC_auto_sufficient','walk_transit_ASC_no_auto',\n",
    "            'walk_transit_ASC_auto_decicient','walk_transit_ASC_auto_sufficient', \n",
    "            'drive_transit_ASC_auto_decicient','drive_transit_ASC_auto_sufficient',\n",
    "            'walk_transit_CBD_ASC', 'drive_transit_CBD_ASC','local_bus_ASC',\n",
    "            'joint_walk_transit_ASC_no_auto', 'joint_walk_transit_ASC_auto_decicient',\n",
    "            'joint_walk_transit_ASC_auto_sufficient', 'joint_drive_transit_ASC_auto_decicient',\n",
    "            'joint_drive_transit_ASC_auto_sufficient']\n",
    "\n",
    "    cost_names = ['c_wacc', 'c_wegr','c_walktimeshort', 'c_walktimelong']\n",
    "    \n",
    "    # Transporse to replace values easily \n",
    "    coeffs_t = coeffs.pipe(transpose)\n",
    "    at_work_coeff = coeffs['atwork'].reset_index(drop = True) #Safe to join later \n",
    "    \n",
    "    #Generate coefficients for ASC\n",
    "    ASC_shape = coeffs_t[asc_names].shape\n",
    "    ASC_values = coeffs_t[asc_names].unstack().droplevel(level= 0).astype(float)\n",
    "    ASC_grid = np.linspace(ASC_values * 0.7, ASC_values * 1.3, 11, axis = 1) #[np.linspace(float(x)* 0.7, float(x) * 1.5, 11) for x in values]\n",
    "    \n",
    "    #Generate coeffs for cost_coefficient\n",
    "    COST_shape = coeffs_t[cost_names].shape\n",
    "    strings = coeffs_t[cost_names].unstack()#.droplevel(level= 0)\n",
    "    split = strings.str.split('*', expand = True) # Separated the multiplier and value of time\n",
    "    COST_values = split[0].astype(float)\n",
    "    COST_grid = np.linspace(COST_values * 0.7, COST_values * 1.3, 11, axis = 1)#[np.linspace(float(x)* 0.7, float(x) * 1.3, 11) for x in split[0]]\n",
    "    \n",
    "    #Modify YAML, file\n",
    "    costPerMile = yaml_file['CONSTANTS']['costPerMile']\n",
    "    walkThresh = yaml_file['CONSTANTS']['walkThresh']\n",
    "    walkSpeed = yaml_file['CONSTANTS']['walkSpeed']\n",
    "    \n",
    "    YAML_values = np.array([costPerMile, walkThresh, walkSpeed])\n",
    "    YAML_shape = YAML_values.shape\n",
    "    YAML_grid = np.linspace(YAML_values * 0.7, YAML_values * 1.3, 11, axis = 1)#[np.linspace(float(var)* 0.7, float(var) * 1.5, 11) for var in vars_]\n",
    "    \n",
    "    grids = np.concatenate((ASC_grid, COST_grid, YAML_grid))\n",
    "#     attribs = (split, shape_vars, asc_names, cost_coeffs_names,\n",
    "#                at_work_coeff, coeffs_t, yaml_file, shape_cost, vars_.shape)\n",
    "    \n",
    "    attribs = (asc_names, cost_names, yaml_file, ASC_shape, COST_shape, YAML_shape, \n",
    "               split, at_work_coeff, coeffs_t)\n",
    "    \n",
    "    return grids, attribs"
   ]
  },
  {
   "cell_type": "code",
   "execution_count": 7,
   "metadata": {},
   "outputs": [],
   "source": [
    "def save_values_to_file(values, attribs):\n",
    "    \"\"\" Saves input files for mode choice given a predetermid set \n",
    "        grid\"\"\"\n",
    "    \n",
    "    #Files\n",
    "    coeffs_t = attribs[8]\n",
    "    yaml_file = attribs[2]\n",
    "    \n",
    "    #Breakdown grid into its componets\n",
    "    asc_vars_number = attribs[3][0] * attribs[3][1]\n",
    "    generic_var_number = attribs[4][0] * attribs[4][1] \n",
    "    yaml_var_number = attribs[5][0] \n",
    "    \n",
    "    asc_values = values[:asc_vars_number]\n",
    "    generic_values = values[asc_vars_number: asc_vars_number + generic_var_number]\n",
    "    yaml_values = values[asc_vars_number + generic_var_number:]\n",
    "    \n",
    "    ##### COEFFS FILE #########\n",
    "    #ASC replacement     \n",
    "    coeffs_t[attribs[0]] = np.array(asc_values).reshape(attribs[3], order = 'F') #Replace values in dataframe \n",
    "    \n",
    "    #Cost coefficients replacement\n",
    "    attribs[6][0] = np.array(generic_values)\n",
    "    back_to_string = attribs[6][0].astype(str) + '*' + attribs[6][1] \n",
    "    coeffs_t[attribs[1]] = back_to_string.unstack().T\n",
    "    \n",
    "    #reformat outputfile and save to disk\n",
    "    coeff_final = coeffs_t.T.reset_index()\n",
    "    coeff_final['atwork'] = attribs[7]\n",
    "    save_csv(coeff_final, 'tour_mode_choice_coeffs_v2.csv')\n",
    "    \n",
    "    ##### YAML FILE ######### \n",
    "#     yaml_values = np.array(yaml_values).reshape(-1)\n",
    "\n",
    "    yaml_file['CONSTANTS']['costPerMile'] = float(yaml_values[0])\n",
    "    yaml_file['CONSTANTS']['walkThresh'] = float(yaml_values[1])\n",
    "    yaml_file['CONSTANTS']['walkSpeed'] = float(yaml_values[2])\n",
    "    \n",
    "    yaml_file['COEFFS'] = 'tour_mode_choice_coeffs_v2.csv'\n",
    "    \n",
    "    #Saves File to disk\n",
    "    with open('configs/tour_mode_choice.yaml', 'w') as file:\n",
    "        documents = yaml.dump(yaml_file, file)"
   ]
  },
  {
   "cell_type": "code",
   "execution_count": 50,
   "metadata": {},
   "outputs": [],
   "source": [
    "def random_vars(grids, attribs):\n",
    "    \"\"\" Saves input files for mode choice with random coefficient for iterations \"\"\"\n",
    "    random_set = [np.random.choice(var, 1, replace = True) for var in grids] #Find a non-loop solution\n",
    "    save_values_to_file(random_set, attribs)\n",
    "    \n",
    "    return np.array(random_set)\n",
    "    \n",
    "#     coeffs_t = attribs[8]\n",
    "#     yaml_file = attribs[2]\n",
    "#     ##### COEFFS FILE #########\n",
    "#     #Generating one random coefficient for ASC \n",
    "#     asc_set = [np.random.choice(var, 1, replace = True) for var in grids[0]]\n",
    "#     asc_set_shape = np.array(asc_set).reshape(attribs[3], order = 'F')\n",
    "#     coeffs_t[attribs[0]] = asc_set_shape #Replace values in dataframe \n",
    "    \n",
    "#     #Generating one random coefficient for cost coefficients \n",
    "#     generic_set = [np.random.choice(var, 1, replace = True) for var in grids[1]]\n",
    "#     attribs[6][0] = np.array(generic_set)\n",
    "#     back_to_string = attribs[6][0].astype(str) + '*' + attribs[6][1] \n",
    "#     coeffs_t[attribs[1]] = back_to_string.unstack().T\n",
    "    \n",
    "#     #reformat outputfile \n",
    "#     coeff_final = coeffs_t.T.reset_index()\n",
    "#     coeff_final['atwork'] = attribs[7]\n",
    "    \n",
    "#     #Savefile to disk \n",
    "#     save_csv(coeff_final, 'tour_mode_choice_coeffs_v2.csv')\n",
    "    \n",
    "#     ##### YAML FILE #########\n",
    "#     assert len(grids[2]) == 3\n",
    "    \n",
    "#     yaml_set = [np.random.choice(var, 1, replace = True) for var in grids[2]]\n",
    "#     yaml_set = np.array(yaml_set).reshape(-1)\n",
    "\n",
    "#     yaml_file['CONSTANTS']['costPerMile'] = float(yaml_set[0])\n",
    "#     yaml_file['CONSTANTS']['walkThresh'] = float(yaml_set[1])\n",
    "#     yaml_file['CONSTANTS']['walkSpeed'] = float(yaml_set[2])\n",
    "    \n",
    "#     yaml_file['COEFFS'] = 'tour_mode_choice_coeffs_v2.csv'\n",
    "    \n",
    "#     #Saves File to disk\n",
    "#     with open('configs/tour_mode_choice.yaml', 'w') as file:\n",
    "#         documents = yaml.dump(yaml_file, file)\n",
    "        \n",
    "#     #### Return the randomly choson values\n",
    "#     return np.concatenate((np.array(asc_set).reshape(-1), np.array(generic_set).reshape(-1), yaml_set))"
   ]
  },
  {
   "cell_type": "code",
   "execution_count": 51,
   "metadata": {},
   "outputs": [],
   "source": [
    "def run_mode_choice():\n",
    "    \"\"\" Runs mode choice \"\"\"\n",
    "    pipeline.run(models = run_list['models'], resume_after = 'non_mandatory_tour_scheduling')\n",
    "    pipeline.close_pipeline()"
   ]
  },
  {
   "cell_type": "code",
   "execution_count": 52,
   "metadata": {},
   "outputs": [],
   "source": [
    "def read_results():\n",
    "    hdf = pd.HDFStore('output/pipeline.h5')\n",
    "    df = hdf['/tours/tour_mode_choice_simulate']\n",
    "    hdf.close()\n",
    "    return df"
   ]
  },
  {
   "cell_type": "code",
   "execution_count": 53,
   "metadata": {},
   "outputs": [],
   "source": [
    "def score_function(tour_mode):\n",
    "    ''' Returns the score of the objective function'''\n",
    "    \n",
    "    modes_asim = {'WALK_LRF': 'walk_transit', 'WALK_LOC': 'walk_transit', 'SHARED3FREE': 'car', \n",
    "                  'WALK_COM': 'walk_transit', 'DRIVEALONEFREE': 'car', 'SHARED2FREE':'car', \n",
    "                  'BIKE': 'bike', 'DRIVE_LRF': 'drive_transit', 'WALK': 'walk','WALK_HVY':'walk_transit', \n",
    "                  'WALK_EXP':'walk_transit','DRIVE_LOC': 'drive_transit','DRIVE_HVY':'drive_transit', \n",
    "                  'DRIVE_COM':'drive_transit','DRIVEALONEPAY':'car', 'SHARED2PAY':'car', \n",
    "                  'DRIVE_EXP': 'drive_transit','SHARED3PAY':'car'}\n",
    "    modes = ['car', 'walk', 'bike', 'walk_transit', 'drive_transit']\n",
    "    \n",
    "    tour_mode = tour_mode.replace(modes_asim)\n",
    "    pct = tour_mode.value_counts()/tour_mode.count()\n",
    "    \n",
    "    real_shares = pd.Series(data = [0.8624, 0.0868, 0.0125, 0.0329, 0.0054], index = modes)\n",
    "    score = np.abs(pct - real_shares).sum() #To change \n",
    "    return score"
   ]
  },
  {
   "cell_type": "code",
   "execution_count": 89,
   "metadata": {},
   "outputs": [],
   "source": [
    "def organize_set(scores, used_values):\n",
    "    numpy_vector = np.concatenate((scores.reshape((scores.shape[0],-1)), np.squeeze(used_values)), axis = 1)\n",
    "    return pd.DataFrame(numpy_vector).rename(columns = {0:'score'})"
   ]
  },
  {
   "cell_type": "code",
   "execution_count": 90,
   "metadata": {},
   "outputs": [],
   "source": [
    "def new_grids(scores, used_values, attribs, top_score_number = 5):\n",
    "    \"\"\" Estimate new limits to generate grids. The new limits are the max and min value \n",
    "        of the top 10 best scores\n",
    "        \n",
    "        top_score_number: Number of best score that will serve as new grid limits\"\"\"\n",
    "    a = organize_set(scores, used_values)\n",
    "    b = a.sort_values('score').head(top_score_number).drop(columns = 'score')\n",
    "    \n",
    "    #Creates a new grid with min and max values as edges values. \n",
    "    max_value = b.max()\n",
    "    min_value = b.min()\n",
    "    new_grid = np.linspace(min_value,max_value, 11, axis = 1)\n",
    "    \n",
    "#     #Breakdown grid into its componets\n",
    "#     asc_vars_number = attribs[3][0] * attribs[3][1]\n",
    "#     generic_var_number = attribs[4][0] * attribs[4][1] \n",
    "#     yaml_var_number = attribs[5][0] \n",
    "    \n",
    "    \n",
    "#     asc_grid = new_grid[1:asc_vars_number + 1]\n",
    "#     generic_grid = new_grid[asc_vars_number + 1: asc_vars_number + generic_var_number + 1]\n",
    "#     yaml_grid = new_grid[asc_vars_number + generic_var_number + 1:]\n",
    "    \n",
    "#     assert len(yaml_grid == 3)\n",
    "    \n",
    "#     grids = (asc_grid, generic_grid, yaml_grid)\n",
    "    return new_grid"
   ]
  },
  {
   "cell_type": "code",
   "execution_count": 91,
   "metadata": {},
   "outputs": [],
   "source": [
    "def save_csv(file, name):\n",
    "    \"\"\" saves a csv file\"\"\"\n",
    "    file.to_csv('configs/'+ name, index = False)"
   ]
  },
  {
   "cell_type": "code",
   "execution_count": 97,
   "metadata": {},
   "outputs": [],
   "source": [
    "def grid_search_(grids, attribs, iterations = 10):\n",
    "    \"\"\" Runs a set of grid search algorithm \n",
    "    \n",
    "    Returns\n",
    "    - scores: numpy array. shape = (iteration, ) \n",
    "    - new_values: numpy array. shape = (iteration, vars). Vars in the number of total coeffs that change. \n",
    "    \"\"\"\n",
    "    scores_list = []\n",
    "    used_values_list = []\n",
    "    for _ in range(iterations):\n",
    "        start = time.time()\n",
    "    \n",
    "        used_values = random_vars(grids, attribs) #Generate file with random values from the grid\n",
    "#         print(used_values.shape)\n",
    "        \n",
    "        run_mode_choice()\n",
    "        score = score_function(read_results().tour_mode)\n",
    "        \n",
    "        scores_list.append(score)\n",
    "        used_values_list.append(used_values)\n",
    "        \n",
    "        end = time.time()\n",
    "        seconds = end - start\n",
    "        print('Iteration: {}. Score: {:.5f}. Time: {:.2f}'.format(_,score,seconds))\n",
    "        \n",
    "    return np.array(scores_list), np.array(used_values_list)"
   ]
  },
  {
   "cell_type": "code",
   "execution_count": 98,
   "metadata": {},
   "outputs": [],
   "source": [
    "def grid_search(coeffs, model_settings, iterations = (10,5) , top_score_number = 5):\n",
    "\n",
    "    print('Initialize ranges')\n",
    "    grids, attribs = initialize_grid(coeffs, model_settings) #In theory, attributes should not change. \n",
    "    last_score, last_value = 1, 0 \n",
    "\n",
    "    scores_list = []\n",
    "    coeffs_used = []\n",
    "    \n",
    "    \n",
    "    for _ in range(iterations[0]):\n",
    "        start = time.time()\n",
    "        \n",
    "        scores, used_values = grid_search_(grids, attribs, iterations = iterations[1])\n",
    "        \n",
    "        assert len(scores) == len(used_values)\n",
    "        \n",
    "        best_score = scores.min()\n",
    "        best_score_index = scores.argmin()\n",
    "        best_values = used_values[best_score_index]\n",
    "        \n",
    "        grids = new_grids(scores, used_values, attribs, top_score_number)\n",
    "\n",
    "        improvemnt = np.abs((last_score - best_score)/last_score)\n",
    "        \n",
    "        if best_score < last_score:\n",
    "            last_score = best_score \n",
    "            last_values = best_values\n",
    "        \n",
    "        end = time.time()\n",
    "        seconds = end - start\n",
    "        print('Iteration: {}. Best score: {:.5f}. Time: {:.2f}'.format(_,best_score,seconds))\n",
    "    \n",
    "    return last_values, attribs # return best values to recreate files with the given values"
   ]
  },
  {
   "cell_type": "code",
   "execution_count": 99,
   "metadata": {},
   "outputs": [],
   "source": [
    "def mode_choice_validation(tour_mode):\n",
    "    ''' Returns the score of the objective function'''\n",
    "    \n",
    "    modes_asim = {'WALK_LRF': 'walk_transit', 'WALK_LOC': 'walk_transit', 'SHARED3FREE': 'car', \n",
    "                  'WALK_COM': 'walk_transit', 'DRIVEALONEFREE': 'car', 'SHARED2FREE':'car', \n",
    "                  'BIKE': 'bike', 'DRIVE_LRF': 'drive_transit', 'WALK': 'walk','WALK_HVY':'walk_transit', \n",
    "                  'WALK_EXP':'walk_transit','DRIVE_LOC': 'drive_transit','DRIVE_HVY':'drive_transit', \n",
    "                  'DRIVE_COM':'drive_transit','DRIVEALONEPAY':'car', 'SHARED2PAY':'car', \n",
    "                  'DRIVE_EXP': 'drive_transit','SHARED3PAY':'car'}\n",
    "    modes = ['car', 'walk', 'bike', 'walk_transit', 'drive_transit']\n",
    "    \n",
    "    tour_mode = tour_mode.replace(modes_asim)\n",
    "    pct = tour_mode.value_counts()/tour_mode.count()\n",
    "    \n",
    "    real_shares = pd.Series(data = [0.8624, 0.0868, 0.0125, 0.0329, 0.0054], index = modes)\n",
    "    \n",
    "    #Creating dataframe to organize data to plot\n",
    "    asim = pd.DataFrame(pct).reset_index()\n",
    "    asim.columns = ['mode', 'share']\n",
    "    asim['model'] = 'ActivitySim'\n",
    "    \n",
    "    real_shares = pd.DataFrame({'mode':['car', 'walk', 'bike', 'walk_transit', 'drive_transit'], \n",
    "                      'share': [0.8624, 0.0868, 0.0125, 0.0329, 0.0054] })\n",
    "    assert real_shares.share.sum() == 1\n",
    "    real_shares['model'] = 'Real mode share'\n",
    "    \n",
    "    results = pd.concat((asim,real_shares), axis = 0)\n",
    "    \n",
    "    #plotting \n",
    "    fig, ax = plt.subplots(figsize = (8,5))\n",
    "    sns.barplot(x='mode', y='share', hue = 'model', data = results.sort_values('share', ascending=False))\n",
    "    plt.xticks(rotation = 90)\n",
    "    plt.title('Mode choice - Mode shares')\n",
    "    plt.ylabel('Mode share - log Scale')\n",
    "    plt.xlabel('Mode of transportation')\n",
    "    plt.yscale('log')\n",
    "    plt.legend(loc = 'upper right')\n",
    "    \n",
    "    return results"
   ]
  },
  {
   "cell_type": "code",
   "execution_count": 109,
   "metadata": {},
   "outputs": [
    {
     "name": "stdout",
     "output_type": "stream",
     "text": [
      "Initialize ranges\n"
     ]
    },
    {
     "ename": "RuntimeError",
     "evalue": "Pipeline is already open!",
     "output_type": "error",
     "traceback": [
      "\u001b[0;31m---------------------------------------------------------------------------\u001b[0m",
      "\u001b[0;31mRuntimeError\u001b[0m                              Traceback (most recent call last)",
      "\u001b[0;32m<timed exec>\u001b[0m in \u001b[0;36m<module>\u001b[0;34m\u001b[0m\n",
      "\u001b[0;32m<ipython-input-98-cee921ad03d4>\u001b[0m in \u001b[0;36mgrid_search\u001b[0;34m(coeffs, model_settings, iterations, top_score_number)\u001b[0m\n\u001b[1;32m     12\u001b[0m         \u001b[0mstart\u001b[0m \u001b[0;34m=\u001b[0m \u001b[0mtime\u001b[0m\u001b[0;34m.\u001b[0m\u001b[0mtime\u001b[0m\u001b[0;34m(\u001b[0m\u001b[0;34m)\u001b[0m\u001b[0;34m\u001b[0m\u001b[0;34m\u001b[0m\u001b[0m\n\u001b[1;32m     13\u001b[0m \u001b[0;34m\u001b[0m\u001b[0m\n\u001b[0;32m---> 14\u001b[0;31m         \u001b[0mscores\u001b[0m\u001b[0;34m,\u001b[0m \u001b[0mused_values\u001b[0m \u001b[0;34m=\u001b[0m \u001b[0mgrid_search_\u001b[0m\u001b[0;34m(\u001b[0m\u001b[0mgrids\u001b[0m\u001b[0;34m,\u001b[0m \u001b[0mattribs\u001b[0m\u001b[0;34m,\u001b[0m \u001b[0miterations\u001b[0m \u001b[0;34m=\u001b[0m \u001b[0miterations\u001b[0m\u001b[0;34m[\u001b[0m\u001b[0;36m1\u001b[0m\u001b[0;34m]\u001b[0m\u001b[0;34m)\u001b[0m\u001b[0;34m\u001b[0m\u001b[0;34m\u001b[0m\u001b[0m\n\u001b[0m\u001b[1;32m     15\u001b[0m \u001b[0;34m\u001b[0m\u001b[0m\n\u001b[1;32m     16\u001b[0m         \u001b[0;32massert\u001b[0m \u001b[0mlen\u001b[0m\u001b[0;34m(\u001b[0m\u001b[0mscores\u001b[0m\u001b[0;34m)\u001b[0m \u001b[0;34m==\u001b[0m \u001b[0mlen\u001b[0m\u001b[0;34m(\u001b[0m\u001b[0mused_values\u001b[0m\u001b[0;34m)\u001b[0m\u001b[0;34m\u001b[0m\u001b[0;34m\u001b[0m\u001b[0m\n",
      "\u001b[0;32m<ipython-input-97-d300ccc369ff>\u001b[0m in \u001b[0;36mgrid_search_\u001b[0;34m(grids, attribs, iterations)\u001b[0m\n\u001b[1;32m     14\u001b[0m \u001b[0;31m#         print(used_values.shape)\u001b[0m\u001b[0;34m\u001b[0m\u001b[0;34m\u001b[0m\u001b[0;34m\u001b[0m\u001b[0m\n\u001b[1;32m     15\u001b[0m \u001b[0;34m\u001b[0m\u001b[0m\n\u001b[0;32m---> 16\u001b[0;31m         \u001b[0mrun_mode_choice\u001b[0m\u001b[0;34m(\u001b[0m\u001b[0;34m)\u001b[0m\u001b[0;34m\u001b[0m\u001b[0;34m\u001b[0m\u001b[0m\n\u001b[0m\u001b[1;32m     17\u001b[0m         \u001b[0mscore\u001b[0m \u001b[0;34m=\u001b[0m \u001b[0mscore_function\u001b[0m\u001b[0;34m(\u001b[0m\u001b[0mread_results\u001b[0m\u001b[0;34m(\u001b[0m\u001b[0;34m)\u001b[0m\u001b[0;34m.\u001b[0m\u001b[0mtour_mode\u001b[0m\u001b[0;34m)\u001b[0m\u001b[0;34m\u001b[0m\u001b[0;34m\u001b[0m\u001b[0m\n\u001b[1;32m     18\u001b[0m \u001b[0;34m\u001b[0m\u001b[0m\n",
      "\u001b[0;32m<ipython-input-51-6a77b6ed81e5>\u001b[0m in \u001b[0;36mrun_mode_choice\u001b[0;34m()\u001b[0m\n\u001b[1;32m      1\u001b[0m \u001b[0;32mdef\u001b[0m \u001b[0mrun_mode_choice\u001b[0m\u001b[0;34m(\u001b[0m\u001b[0;34m)\u001b[0m\u001b[0;34m:\u001b[0m\u001b[0;34m\u001b[0m\u001b[0;34m\u001b[0m\u001b[0m\n\u001b[1;32m      2\u001b[0m     \u001b[0;34m\"\"\" Runs mode choice \"\"\"\u001b[0m\u001b[0;34m\u001b[0m\u001b[0;34m\u001b[0m\u001b[0m\n\u001b[0;32m----> 3\u001b[0;31m     \u001b[0mpipeline\u001b[0m\u001b[0;34m.\u001b[0m\u001b[0mrun\u001b[0m\u001b[0;34m(\u001b[0m\u001b[0mmodels\u001b[0m \u001b[0;34m=\u001b[0m \u001b[0mrun_list\u001b[0m\u001b[0;34m[\u001b[0m\u001b[0;34m'models'\u001b[0m\u001b[0;34m]\u001b[0m\u001b[0;34m,\u001b[0m \u001b[0mresume_after\u001b[0m \u001b[0;34m=\u001b[0m \u001b[0;34m'non_mandatory_tour_scheduling'\u001b[0m\u001b[0;34m)\u001b[0m\u001b[0;34m\u001b[0m\u001b[0;34m\u001b[0m\u001b[0m\n\u001b[0m\u001b[1;32m      4\u001b[0m     \u001b[0mpipeline\u001b[0m\u001b[0;34m.\u001b[0m\u001b[0mclose_pipeline\u001b[0m\u001b[0;34m(\u001b[0m\u001b[0;34m)\u001b[0m\u001b[0;34m\u001b[0m\u001b[0;34m\u001b[0m\u001b[0m\n",
      "\u001b[0;32m~/ual_asim/activitysim/activitysim/core/pipeline.py\u001b[0m in \u001b[0;36mrun\u001b[0;34m(models, resume_after)\u001b[0m\n\u001b[1;32m    573\u001b[0m     \u001b[0mt0\u001b[0m \u001b[0;34m=\u001b[0m \u001b[0mprint_elapsed_time\u001b[0m\u001b[0;34m(\u001b[0m\u001b[0;34m)\u001b[0m\u001b[0;34m\u001b[0m\u001b[0;34m\u001b[0m\u001b[0m\n\u001b[1;32m    574\u001b[0m \u001b[0;34m\u001b[0m\u001b[0m\n\u001b[0;32m--> 575\u001b[0;31m     \u001b[0mopen_pipeline\u001b[0m\u001b[0;34m(\u001b[0m\u001b[0mresume_after\u001b[0m\u001b[0;34m)\u001b[0m\u001b[0;34m\u001b[0m\u001b[0;34m\u001b[0m\u001b[0m\n\u001b[0m\u001b[1;32m    576\u001b[0m     \u001b[0mt0\u001b[0m \u001b[0;34m=\u001b[0m \u001b[0mprint_elapsed_time\u001b[0m\u001b[0;34m(\u001b[0m\u001b[0;34m'open_pipeline'\u001b[0m\u001b[0;34m,\u001b[0m \u001b[0mt0\u001b[0m\u001b[0;34m)\u001b[0m\u001b[0;34m\u001b[0m\u001b[0;34m\u001b[0m\u001b[0m\n\u001b[1;32m    577\u001b[0m \u001b[0;34m\u001b[0m\u001b[0m\n",
      "\u001b[0;32m~/ual_asim/activitysim/activitysim/core/pipeline.py\u001b[0m in \u001b[0;36mopen_pipeline\u001b[0;34m(resume_after)\u001b[0m\n\u001b[1;32m    498\u001b[0m \u001b[0;34m\u001b[0m\u001b[0m\n\u001b[1;32m    499\u001b[0m     \u001b[0;32mif\u001b[0m \u001b[0m_PIPELINE\u001b[0m\u001b[0;34m.\u001b[0m\u001b[0mis_open\u001b[0m\u001b[0;34m:\u001b[0m\u001b[0;34m\u001b[0m\u001b[0;34m\u001b[0m\u001b[0m\n\u001b[0;32m--> 500\u001b[0;31m         \u001b[0;32mraise\u001b[0m \u001b[0mRuntimeError\u001b[0m\u001b[0;34m(\u001b[0m\u001b[0;34m\"Pipeline is already open!\"\u001b[0m\u001b[0;34m)\u001b[0m\u001b[0;34m\u001b[0m\u001b[0;34m\u001b[0m\u001b[0m\n\u001b[0m\u001b[1;32m    501\u001b[0m \u001b[0;34m\u001b[0m\u001b[0m\n\u001b[1;32m    502\u001b[0m     \u001b[0m_PIPELINE\u001b[0m\u001b[0;34m.\u001b[0m\u001b[0minit_state\u001b[0m\u001b[0;34m(\u001b[0m\u001b[0;34m)\u001b[0m\u001b[0;34m\u001b[0m\u001b[0;34m\u001b[0m\u001b[0m\n",
      "\u001b[0;31mRuntimeError\u001b[0m: Pipeline is already open!"
     ]
    }
   ],
   "source": [
    "%%time\n",
    "coeffs = pd.read_csv('configs/configs/tour_mode_choice_coeffs.csv', \n",
    "                     index_col = 'Expression')\n",
    "#Tour .yaml file \n",
    "yaml_file = open('configs/configs/tour_mode_choice.yaml')\n",
    "model_settings = yaml.load(yaml_file, Loader=yaml.FullLoader)\n",
    "\n",
    "best_values, attribs = grid_search(coeffs, model_settings, iterations = (20,25), top_score_number = 10)"
   ]
  },
  {
   "cell_type": "markdown",
   "metadata": {},
   "source": [
    "## Validation plot \n",
    "Plot of mode choice distribution \n",
    "\n",
    "To do:\n",
    "- Get the best values and replace files to run model \n",
    "- Run the model with best values \n",
    "- obtain the score \n",
    "- Plot the resutls versus aggregate distribution "
   ]
  },
  {
   "cell_type": "code",
   "execution_count": 105,
   "metadata": {},
   "outputs": [],
   "source": [
    "pipeline.close_pipeline()"
   ]
  },
  {
   "cell_type": "code",
   "execution_count": 107,
   "metadata": {},
   "outputs": [
    {
     "ename": "AssertionError",
     "evalue": "",
     "output_type": "error",
     "traceback": [
      "\u001b[0;31m---------------------------------------------------------------------------\u001b[0m",
      "\u001b[0;31mAssertionError\u001b[0m                            Traceback (most recent call last)",
      "\u001b[0;32m<ipython-input-107-d643b7e9db56>\u001b[0m in \u001b[0;36m<module>\u001b[0;34m\u001b[0m\n\u001b[1;32m      1\u001b[0m \u001b[0msave_values_to_file\u001b[0m\u001b[0;34m(\u001b[0m\u001b[0mbest_values\u001b[0m\u001b[0;34m,\u001b[0m \u001b[0mattribs\u001b[0m\u001b[0;34m)\u001b[0m\u001b[0;34m\u001b[0m\u001b[0;34m\u001b[0m\u001b[0m\n\u001b[0;32m----> 2\u001b[0;31m \u001b[0mrun_mode_choice\u001b[0m\u001b[0;34m(\u001b[0m\u001b[0;34m)\u001b[0m\u001b[0;34m\u001b[0m\u001b[0;34m\u001b[0m\u001b[0m\n\u001b[0m\u001b[1;32m      3\u001b[0m \u001b[0mscore\u001b[0m \u001b[0;34m=\u001b[0m \u001b[0mscore_function\u001b[0m\u001b[0;34m(\u001b[0m\u001b[0mread_results\u001b[0m\u001b[0;34m(\u001b[0m\u001b[0;34m)\u001b[0m\u001b[0;34m.\u001b[0m\u001b[0mtour_mode\u001b[0m\u001b[0;34m)\u001b[0m\u001b[0;34m\u001b[0m\u001b[0;34m\u001b[0m\u001b[0m\n\u001b[1;32m      4\u001b[0m \u001b[0mscore\u001b[0m\u001b[0;34m\u001b[0m\u001b[0;34m\u001b[0m\u001b[0m\n",
      "\u001b[0;32m<ipython-input-51-6a77b6ed81e5>\u001b[0m in \u001b[0;36mrun_mode_choice\u001b[0;34m()\u001b[0m\n\u001b[1;32m      1\u001b[0m \u001b[0;32mdef\u001b[0m \u001b[0mrun_mode_choice\u001b[0m\u001b[0;34m(\u001b[0m\u001b[0;34m)\u001b[0m\u001b[0;34m:\u001b[0m\u001b[0;34m\u001b[0m\u001b[0;34m\u001b[0m\u001b[0m\n\u001b[1;32m      2\u001b[0m     \u001b[0;34m\"\"\" Runs mode choice \"\"\"\u001b[0m\u001b[0;34m\u001b[0m\u001b[0;34m\u001b[0m\u001b[0m\n\u001b[0;32m----> 3\u001b[0;31m     \u001b[0mpipeline\u001b[0m\u001b[0;34m.\u001b[0m\u001b[0mrun\u001b[0m\u001b[0;34m(\u001b[0m\u001b[0mmodels\u001b[0m \u001b[0;34m=\u001b[0m \u001b[0mrun_list\u001b[0m\u001b[0;34m[\u001b[0m\u001b[0;34m'models'\u001b[0m\u001b[0;34m]\u001b[0m\u001b[0;34m,\u001b[0m \u001b[0mresume_after\u001b[0m \u001b[0;34m=\u001b[0m \u001b[0;34m'non_mandatory_tour_scheduling'\u001b[0m\u001b[0;34m)\u001b[0m\u001b[0;34m\u001b[0m\u001b[0;34m\u001b[0m\u001b[0m\n\u001b[0m\u001b[1;32m      4\u001b[0m     \u001b[0mpipeline\u001b[0m\u001b[0;34m.\u001b[0m\u001b[0mclose_pipeline\u001b[0m\u001b[0;34m(\u001b[0m\u001b[0;34m)\u001b[0m\u001b[0;34m\u001b[0m\u001b[0;34m\u001b[0m\u001b[0m\n",
      "\u001b[0;32m~/ual_asim/activitysim/activitysim/core/pipeline.py\u001b[0m in \u001b[0;36mrun\u001b[0;34m(models, resume_after)\u001b[0m\n\u001b[1;32m    592\u001b[0m     \u001b[0;32mfor\u001b[0m \u001b[0mmodel\u001b[0m \u001b[0;32min\u001b[0m \u001b[0mmodels\u001b[0m\u001b[0;34m:\u001b[0m\u001b[0;34m\u001b[0m\u001b[0;34m\u001b[0m\u001b[0m\n\u001b[1;32m    593\u001b[0m \u001b[0;34m\u001b[0m\u001b[0m\n\u001b[0;32m--> 594\u001b[0;31m         \u001b[0mrun_model\u001b[0m\u001b[0;34m(\u001b[0m\u001b[0mmodel\u001b[0m\u001b[0;34m)\u001b[0m\u001b[0;34m\u001b[0m\u001b[0;34m\u001b[0m\u001b[0m\n\u001b[0m\u001b[1;32m    595\u001b[0m \u001b[0;34m\u001b[0m\u001b[0m\n\u001b[1;32m    596\u001b[0m     \u001b[0mt0\u001b[0m \u001b[0;34m=\u001b[0m \u001b[0mprint_elapsed_time\u001b[0m\u001b[0;34m(\u001b[0m\u001b[0;34m\"run_model (%s models)\"\u001b[0m \u001b[0;34m%\u001b[0m \u001b[0mlen\u001b[0m\u001b[0;34m(\u001b[0m\u001b[0mmodels\u001b[0m\u001b[0;34m)\u001b[0m\u001b[0;34m,\u001b[0m \u001b[0mt0\u001b[0m\u001b[0;34m)\u001b[0m\u001b[0;34m\u001b[0m\u001b[0;34m\u001b[0m\u001b[0m\n",
      "\u001b[0;32m~/ual_asim/activitysim/activitysim/core/pipeline.py\u001b[0m in \u001b[0;36mrun_model\u001b[0;34m(model_name)\u001b[0m\n\u001b[1;32m    469\u001b[0m \u001b[0;34m\u001b[0m\u001b[0m\n\u001b[1;32m    470\u001b[0m     \u001b[0mt0\u001b[0m \u001b[0;34m=\u001b[0m \u001b[0mprint_elapsed_time\u001b[0m\u001b[0;34m(\u001b[0m\u001b[0;34m)\u001b[0m\u001b[0;34m\u001b[0m\u001b[0;34m\u001b[0m\u001b[0m\n\u001b[0;32m--> 471\u001b[0;31m     \u001b[0morca\u001b[0m\u001b[0;34m.\u001b[0m\u001b[0mrun\u001b[0m\u001b[0;34m(\u001b[0m\u001b[0;34m[\u001b[0m\u001b[0mstep_name\u001b[0m\u001b[0;34m]\u001b[0m\u001b[0;34m)\u001b[0m\u001b[0;34m\u001b[0m\u001b[0;34m\u001b[0m\u001b[0m\n\u001b[0m\u001b[1;32m    472\u001b[0m     \u001b[0mt0\u001b[0m \u001b[0;34m=\u001b[0m \u001b[0mprint_elapsed_time\u001b[0m\u001b[0;34m(\u001b[0m\u001b[0;34m\"run_model step '%s'\"\u001b[0m \u001b[0;34m%\u001b[0m \u001b[0mmodel_name\u001b[0m\u001b[0;34m,\u001b[0m \u001b[0mt0\u001b[0m\u001b[0;34m,\u001b[0m \u001b[0mdebug\u001b[0m\u001b[0;34m=\u001b[0m\u001b[0;32mTrue\u001b[0m\u001b[0;34m)\u001b[0m\u001b[0;34m\u001b[0m\u001b[0;34m\u001b[0m\u001b[0m\n\u001b[1;32m    473\u001b[0m \u001b[0;34m\u001b[0m\u001b[0m\n",
      "\u001b[0;32m~/ual_asim/activitysim/activitysim/core/orca.py\u001b[0m in \u001b[0;36mrun\u001b[0;34m(steps, iter_vars, data_out, out_interval, out_base_tables, out_run_tables, compress, out_base_local, out_run_local)\u001b[0m\n\u001b[1;32m   2032\u001b[0m                     logging.INFO):\n\u001b[1;32m   2033\u001b[0m                 \u001b[0mstep\u001b[0m \u001b[0;34m=\u001b[0m \u001b[0mget_step\u001b[0m\u001b[0;34m(\u001b[0m\u001b[0mstep_name\u001b[0m\u001b[0;34m)\u001b[0m\u001b[0;34m\u001b[0m\u001b[0;34m\u001b[0m\u001b[0m\n\u001b[0;32m-> 2034\u001b[0;31m                 \u001b[0mstep\u001b[0m\u001b[0;34m(\u001b[0m\u001b[0;34m)\u001b[0m\u001b[0;34m\u001b[0m\u001b[0;34m\u001b[0m\u001b[0m\n\u001b[0m\u001b[1;32m   2035\u001b[0m             \u001b[0mclear_cache\u001b[0m\u001b[0;34m(\u001b[0m\u001b[0mscope\u001b[0m\u001b[0;34m=\u001b[0m\u001b[0m_CS_STEP\u001b[0m\u001b[0;34m)\u001b[0m\u001b[0;34m\u001b[0m\u001b[0;34m\u001b[0m\u001b[0m\n\u001b[1;32m   2036\u001b[0m \u001b[0;34m\u001b[0m\u001b[0m\n",
      "\u001b[0;32m~/ual_asim/activitysim/activitysim/core/orca.py\u001b[0m in \u001b[0;36m__call__\u001b[0;34m(self)\u001b[0m\n\u001b[1;32m    841\u001b[0m             kwargs = _collect_variables(names=self._argspec.args,\n\u001b[1;32m    842\u001b[0m                                         expressions=self._argspec.defaults)\n\u001b[0;32m--> 843\u001b[0;31m             \u001b[0;32mreturn\u001b[0m \u001b[0mself\u001b[0m\u001b[0;34m.\u001b[0m\u001b[0m_func\u001b[0m\u001b[0;34m(\u001b[0m\u001b[0;34m**\u001b[0m\u001b[0mkwargs\u001b[0m\u001b[0;34m)\u001b[0m\u001b[0;34m\u001b[0m\u001b[0;34m\u001b[0m\u001b[0m\n\u001b[0m\u001b[1;32m    844\u001b[0m \u001b[0;34m\u001b[0m\u001b[0m\n\u001b[1;32m    845\u001b[0m     \u001b[0;32mdef\u001b[0m \u001b[0m_tables_used\u001b[0m\u001b[0;34m(\u001b[0m\u001b[0mself\u001b[0m\u001b[0;34m)\u001b[0m\u001b[0;34m:\u001b[0m\u001b[0;34m\u001b[0m\u001b[0;34m\u001b[0m\u001b[0m\n",
      "\u001b[0;32m~/ual_asim/activitysim/activitysim/abm/models/tour_mode_choice.py\u001b[0m in \u001b[0;36mtour_mode_choice_simulate\u001b[0;34m(tours, persons_merged, skim_dict, skim_stack, chunk_size, trace_hh_id)\u001b[0m\n\u001b[1;32m     96\u001b[0m             \u001b[0mchunk_size\u001b[0m\u001b[0;34m=\u001b[0m\u001b[0mchunk_size\u001b[0m\u001b[0;34m,\u001b[0m\u001b[0;34m\u001b[0m\u001b[0;34m\u001b[0m\u001b[0m\n\u001b[1;32m     97\u001b[0m             \u001b[0mtrace_label\u001b[0m\u001b[0;34m=\u001b[0m\u001b[0mtracing\u001b[0m\u001b[0;34m.\u001b[0m\u001b[0mextend_trace_label\u001b[0m\u001b[0;34m(\u001b[0m\u001b[0mtrace_label\u001b[0m\u001b[0;34m,\u001b[0m \u001b[0mtour_type\u001b[0m\u001b[0;34m)\u001b[0m\u001b[0;34m,\u001b[0m\u001b[0;34m\u001b[0m\u001b[0;34m\u001b[0m\u001b[0m\n\u001b[0;32m---> 98\u001b[0;31m             trace_choice_name='tour_mode_choice')\n\u001b[0m\u001b[1;32m     99\u001b[0m \u001b[0;34m\u001b[0m\u001b[0m\n\u001b[1;32m    100\u001b[0m         tracing.print_summary('tour_mode_choice_simulate %s choices' % tour_type,\n",
      "\u001b[0;32m~/ual_asim/activitysim/activitysim/abm/models/util/mode.py\u001b[0m in \u001b[0;36mrun_tour_mode_choice_simulate\u001b[0;34m(choosers, spec, tour_purpose, model_settings, skims, constants, nest_spec, chunk_size, trace_label, trace_choice_name)\u001b[0m\n\u001b[1;32m     75\u001b[0m         \u001b[0mchunk_size\u001b[0m\u001b[0;34m=\u001b[0m\u001b[0mchunk_size\u001b[0m\u001b[0;34m,\u001b[0m\u001b[0;34m\u001b[0m\u001b[0;34m\u001b[0m\u001b[0m\n\u001b[1;32m     76\u001b[0m         \u001b[0mtrace_label\u001b[0m\u001b[0;34m=\u001b[0m\u001b[0mtrace_label\u001b[0m\u001b[0;34m,\u001b[0m\u001b[0;34m\u001b[0m\u001b[0;34m\u001b[0m\u001b[0m\n\u001b[0;32m---> 77\u001b[0;31m         trace_choice_name=trace_choice_name)\n\u001b[0m\u001b[1;32m     78\u001b[0m \u001b[0;34m\u001b[0m\u001b[0m\n\u001b[1;32m     79\u001b[0m     \u001b[0malts\u001b[0m \u001b[0;34m=\u001b[0m \u001b[0mspec\u001b[0m\u001b[0;34m.\u001b[0m\u001b[0mcolumns\u001b[0m\u001b[0;34m\u001b[0m\u001b[0;34m\u001b[0m\u001b[0m\n",
      "\u001b[0;32m~/ual_asim/activitysim/activitysim/core/simulate.py\u001b[0m in \u001b[0;36msimple_simulate\u001b[0;34m(choosers, spec, nest_spec, skims, locals_d, chunk_size, custom_chooser, trace_label, trace_choice_name)\u001b[0m\n\u001b[1;32m    831\u001b[0m             \u001b[0;32mif\u001b[0m \u001b[0mnum_chunks\u001b[0m \u001b[0;34m>\u001b[0m \u001b[0;36m1\u001b[0m \u001b[0;32melse\u001b[0m \u001b[0mtrace_label\u001b[0m\u001b[0;34m\u001b[0m\u001b[0;34m\u001b[0m\u001b[0m\n\u001b[1;32m    832\u001b[0m \u001b[0;34m\u001b[0m\u001b[0m\n\u001b[0;32m--> 833\u001b[0;31m         \u001b[0mchunk\u001b[0m\u001b[0;34m.\u001b[0m\u001b[0mlog_open\u001b[0m\u001b[0;34m(\u001b[0m\u001b[0mchunk_trace_label\u001b[0m\u001b[0;34m,\u001b[0m \u001b[0mchunk_size\u001b[0m\u001b[0;34m,\u001b[0m \u001b[0meffective_chunk_size\u001b[0m\u001b[0;34m)\u001b[0m\u001b[0;34m\u001b[0m\u001b[0;34m\u001b[0m\u001b[0m\n\u001b[0m\u001b[1;32m    834\u001b[0m \u001b[0;34m\u001b[0m\u001b[0m\n\u001b[1;32m    835\u001b[0m         choices = _simple_simulate(\n",
      "\u001b[0;32m~/ual_asim/activitysim/activitysim/core/chunk.py\u001b[0m in \u001b[0;36mlog_open\u001b[0;34m(trace_label, chunk_size, effective_chunk_size)\u001b[0m\n\u001b[1;32m     56\u001b[0m     \u001b[0;32mif\u001b[0m \u001b[0mlen\u001b[0m\u001b[0;34m(\u001b[0m\u001b[0mCHUNK_LOG\u001b[0m\u001b[0;34m)\u001b[0m \u001b[0;34m>\u001b[0m \u001b[0;36m0\u001b[0m\u001b[0;34m:\u001b[0m\u001b[0;34m\u001b[0m\u001b[0;34m\u001b[0m\u001b[0m\n\u001b[1;32m     57\u001b[0m         \u001b[0;32massert\u001b[0m \u001b[0mchunk_size\u001b[0m \u001b[0;34m==\u001b[0m \u001b[0;36m0\u001b[0m\u001b[0;34m\u001b[0m\u001b[0;34m\u001b[0m\u001b[0m\n\u001b[0;32m---> 58\u001b[0;31m         \u001b[0;32massert\u001b[0m \u001b[0mtrace_label\u001b[0m \u001b[0;32mnot\u001b[0m \u001b[0;32min\u001b[0m \u001b[0mCHUNK_LOG\u001b[0m\u001b[0;34m\u001b[0m\u001b[0;34m\u001b[0m\u001b[0m\n\u001b[0m\u001b[1;32m     59\u001b[0m \u001b[0;34m\u001b[0m\u001b[0m\n\u001b[1;32m     60\u001b[0m     logger.debug(\"log_open chunker %s chunk_size %s effective_chunk_size %s\" %\n",
      "\u001b[0;31mAssertionError\u001b[0m: "
     ]
    }
   ],
   "source": [
    "save_values_to_file(best_values, attribs)\n",
    "run_mode_choice()\n",
    "score = score_function(read_results().tour_mode)\n",
    "score"
   ]
  },
  {
   "cell_type": "code",
   "execution_count": 108,
   "metadata": {},
   "outputs": [
    {
     "data": {
      "image/png": "[encoded data removed]",
      "text/plain": [
       "<Figure size 576x360 with 1 Axes>"
      ]
     },
     "metadata": {
      "needs_background": "light"
     },
     "output_type": "display_data"
    }
   ],
   "source": [
    "#Tours\n",
    "asim = mode_choice_validation(tour_mode = read_results().tour_mode)"
   ]
  },
  {
   "cell_type": "code",
   "execution_count": null,
   "metadata": {},
   "outputs": [],
   "source": []
  }
 ],
 "metadata": {
  "kernelspec": {
   "display_name": "Python 3",
   "language": "python",
   "name": "python3"
  },
  "language_info": {
   "codemirror_mode": {
    "name": "ipython",
    "version": 3
   },
   "file_extension": ".py",
   "mimetype": "text/x-python",
   "name": "python",
   "nbconvert_exporter": "python",
   "pygments_lexer": "ipython3",
   "version": "3.7.7"
  }
 },
 "nbformat": 4,
 "nbformat_minor": 4
}
