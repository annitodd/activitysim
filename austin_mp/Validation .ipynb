{
 "cells": [
  {
   "cell_type": "markdown",
   "metadata": {},
   "source": [
    "# Validation ActiviySim results"
   ]
  },
  {
   "cell_type": "code",
   "execution_count": 15,
   "metadata": {},
   "outputs": [],
   "source": [
    "import numpy as np \n",
    "import pandas as pd\n",
    "import os\n",
    "# import seaborn as sns\n",
    "import matplotlib.pyplot as plt\n",
    "import seaborn as sns\n",
    "import warnings\n",
    "import geopandas as gpd\n",
    "import orca\n",
    "import time\n",
    "warnings.filterwarnings(\"ignore\")"
   ]
  },
  {
   "cell_type": "code",
   "execution_count": 52,
   "metadata": {},
   "outputs": [
    {
     "name": "stdout",
     "output_type": "stream",
     "text": [
      "Number of Households:  666970\n",
      "Number of Persons:  1657301\n",
      "Number of tours:  2062190\n",
      "Number of trips:  5082755\n"
     ]
    }
   ],
   "source": [
    "hdf = pd.HDFStore(path =  'output/pipeline.h5')\n",
    "pp = hdf['/persons/trip_mode_choice']\n",
    "hh = hdf['/households/trip_mode_choice']\n",
    "tours = hdf['/tours/trip_mode_choice']\n",
    "trips = hdf['/trips/trip_mode_choice']\n",
    "\n",
    "print ('Number of Households: ',hh.shape[0])\n",
    "print ('Number of Persons: ',pp.shape[0])\n",
    "print ('Number of tours: ',tours.shape[0])\n",
    "print ('Number of trips: ',trips.shape[0])"
   ]
  },
  {
   "cell_type": "code",
   "execution_count": 53,
   "metadata": {},
   "outputs": [],
   "source": [
    "modes_asim = {'DRIVEALONEFREE': \"Drive alone\",\n",
    " 'SHARED2FREE': 'Shared ride 2',\n",
    " 'SHARED3FREE': 'Shared ride 3+',\n",
    " 'WALK': 'Walk',\n",
    " 'WALK_LOC': 'Walk to local bus',\n",
    " 'WALK_LRF': 'Walk to light rail or ferry',\n",
    " 'BIKE': 'Bicycle',\n",
    " 'DRIVE_HVY': 'Drive to heavy rail',\n",
    " 'WALK_HVY': 'Walk to heavy rail',\n",
    " 'DRIVE_LRF': 'Drive to light rail or ferry',\n",
    " 'WALK_EXP': 'Walk to express bus',\n",
    " 'DRIVE_LOC': 'Drive to local bus',\n",
    " 'DRIVE_EXP': 'Drive to express bus',\n",
    " 'DRIVEALONEPAY': 'Drive alone',\n",
    " 'DRIVE_COM': 'Drive to commuter rail',\n",
    " 'WALK_COM': 'Walk to commuter rail',\n",
    " 'SHARED2PAY': 'Shared ride 2',\n",
    " 'SHARED3PAY': 'Shared ride 3+'}\n",
    "\n",
    "trips = trips.merge(tours[['tour_category']], how = 'left', left_on = 'tour_id', right_index = True )\n",
    "trips.trip_mode.replace(modes_asim, inplace = True)"
   ]
  },
  {
   "cell_type": "code",
   "execution_count": 5,
   "metadata": {},
   "outputs": [],
   "source": [
    "def assign_taz(df, gdf):\n",
    "    '''\n",
    "    Assigns the gdf index (TAZ ID) for each index in df\n",
    "    Input: \n",
    "    - df columns names x, and y. The index is the ID of the object(blocks, school, college)\n",
    "    - gdf: Geopandas DataFrame with TAZ as index, geometry and area value. \n",
    "    Output:\n",
    "    A series with df index and corresponding gdf id\n",
    "    '''\n",
    "    \n",
    "    df = gpd.GeoDataFrame(df, geometry=gpd.points_from_xy(df.x, df.y))\n",
    "\n",
    "    # Spatial join \n",
    "    df = gpd.sjoin(df, gdf, how = 'left', op = 'intersects')\n",
    "\n",
    "    #Drop duplicates and keep the one with the smallest H3 area\n",
    "    df = df.sort_values('area')\n",
    "    index_name = df.index.name\n",
    "    df.reset_index(inplace = True)\n",
    "    df.drop_duplicates(subset = [index_name], keep = 'first', inplace = True) \n",
    "    df.set_index(index_name, inplace = True)\n",
    "    \n",
    "    #Check if there is any assigined object\n",
    "    if df.index_right.isnull().sum()>0:\n",
    "    \n",
    "        #Buffer unassigned ids until they reach a hexbin. \n",
    "        null_values = df[df.index_right.isnull()].drop(columns = ['index_right','area'])\n",
    "        result_list = []\n",
    "        for index, value in null_values.iterrows():\n",
    "            buff_size = 0.0001\n",
    "            matched = False\n",
    "            geo_value = gpd.GeoDataFrame(value).T\n",
    "            while matched == False:\n",
    "                geo_value.geometry = geo_value.geometry.buffer(buff_size)\n",
    "                result = gpd.sjoin(geo_value, gdf, how = 'left', op = 'intersects')\n",
    "                matched = ~result.index_right.isnull()[0]\n",
    "                buff_size = buff_size + 0.0001\n",
    "            result_list.append(result.iloc[0:1])\n",
    "\n",
    "        null_values = pd.concat(result_list)\n",
    "\n",
    "        # Concatenate newly assigned values to the main values table \n",
    "        df = df.dropna()\n",
    "        df = pd.concat([df, null_values], axis = 0)\n",
    "\n",
    "        return df.index_right\n",
    "    \n",
    "    else:\n",
    "        return df.index_right"
   ]
  },
  {
   "cell_type": "markdown",
   "metadata": {},
   "source": [
    "## Data"
   ]
  },
  {
   "cell_type": "code",
   "execution_count": 6,
   "metadata": {},
   "outputs": [],
   "source": [
    "zones = gpd.read_file('data/h3_hexbis.shp').set_index('TAZ')\n",
    "orca.add_table('zones', zones);"
   ]
  },
  {
   "cell_type": "code",
   "execution_count": 7,
   "metadata": {},
   "outputs": [],
   "source": [
    "hdf = pd.HDFStore('data/model_data.h5')\n",
    "blocks = hdf['/blocks']\n",
    "orca.add_table('blocks', blocks);"
   ]
  },
  {
   "cell_type": "code",
   "execution_count": 8,
   "metadata": {},
   "outputs": [],
   "source": [
    "@orca.column('blocks', cache = True)\n",
    "def TAZ(blocks, zones):\n",
    "    blocks_df = blocks.to_frame(columns = ['x', 'y'])\n",
    "    h3_gpd =  zones.to_frame(columns = ['geometry', 'area'])\n",
    "    return assign_taz(blocks_df, h3_gpd)"
   ]
  },
  {
   "cell_type": "code",
   "execution_count": 23,
   "metadata": {},
   "outputs": [],
   "source": [
    "url = 's3://austin-activitysim/base/tx_od_main_JT01_2015.csv'\n",
    "lodes_ods = pd.read_csv(url, dtype={'w_geocode': str, 'h_geocode': str}, \n",
    "                        usecols=['w_geocode', 'h_geocode', 'S000'])"
   ]
  },
  {
   "cell_type": "code",
   "execution_count": null,
   "metadata": {},
   "outputs": [],
   "source": [
    "path = 's3://austin-activitysim/base/A302103 - Means of transportation (18) (Workers 16 years and over).csv'\n",
    "ctpp_ms = pd.read_csv(path)"
   ]
  },
  {
   "cell_type": "code",
   "execution_count": 10,
   "metadata": {},
   "outputs": [
    {
     "name": "stdout",
     "output_type": "stream",
     "text": [
      "CPU times: user 8.44 ms, sys: 11 µs, total: 8.45 ms\n",
      "Wall time: 7.48 ms\n"
     ]
    }
   ],
   "source": [
    "%%time\n",
    "blocks = orca.get_table('blocks').to_frame()"
   ]
  },
  {
   "cell_type": "markdown",
   "metadata": {},
   "source": [
    "## Work distance LODES"
   ]
  },
  {
   "cell_type": "code",
   "execution_count": 11,
   "metadata": {},
   "outputs": [],
   "source": [
    "zones = zones.to_crs(crs={'init': 'EPSG:3081'}) #Name: NAD83 / Texas State Mapping System\n",
    "zones['centroid'] = zones.geometry.centroid"
   ]
  },
  {
   "cell_type": "code",
   "execution_count": 12,
   "metadata": {},
   "outputs": [],
   "source": [
    "tours_work = tours[tours.tour_type == 'work']\n",
    "tours_work = tours_work.merge(zones[['centroid']], how = 'left', \n",
    "                              left_on = 'origin', right_index = True)\n",
    "\n",
    "tours_work = tours_work.merge(zones[['centroid']], how = 'left', \n",
    "                              left_on = 'destination', right_index = True,\n",
    "                              suffixes=('_h', '_w'))\n",
    "\n",
    "tours_work['distance_m'] = gpd.GeoSeries(tours_work['centroid_h']).\\\n",
    "                          distance(gpd.GeoSeries(tours_work['centroid_w'])) "
   ]
  },
  {
   "cell_type": "code",
   "execution_count": 25,
   "metadata": {},
   "outputs": [],
   "source": [
    "blocks = blocks.merge(zones[['centroid']], how = 'left', left_on = 'TAZ', right_index = True )\n",
    "\n",
    "lodes_ods = lodes_ods.merge(blocks[['TAZ','centroid']], \n",
    "                       how = 'inner', \n",
    "                       left_on = 'w_geocode', \n",
    "                       right_index = True)\n",
    "\n",
    "lodes_ods = lodes_ods.merge(blocks[['TAZ','centroid']], \n",
    "                            how = 'inner', \n",
    "                            left_on = 'h_geocode', \n",
    "                            right_index = True,\n",
    "                            suffixes=('_w', '_h'))\n",
    "\n",
    "lodes_ods['distance_m'] = gpd.GeoSeries(lodes_ods['centroid_h']).\\\n",
    "                          distance(gpd.GeoSeries(lodes_ods['centroid_w']))"
   ]
  },
  {
   "cell_type": "code",
   "execution_count": 30,
   "metadata": {},
   "outputs": [
    {
     "data": {
      "image/png": "[encoded data removed]",
      "text/plain": [
       "<Figure size 720x432 with 1 Axes>"
      ]
     },
     "metadata": {
      "needs_background": "light"
     },
     "output_type": "display_data"
    }
   ],
   "source": [
    "fig, ax = plt.subplots(figsize=(10,6))\n",
    "sns.kdeplot(tours_work['distance_m'],ax=ax, label='ActivitySim')\n",
    "sns.kdeplot(lodes_ods['distance_m'], ax=ax, label='LODES')\n",
    "ax.set_xlabel('TAZ-to-TAZ Commute Distance (m)', fontsize=13)\n",
    "plt.title('Commute distance distributions \\n ActivitySim, MTC, LODES')\n",
    "plt.ylabel('Density');"
   ]
  },
  {
   "cell_type": "markdown",
   "metadata": {},
   "source": [
    "## Mode Share"
   ]
  },
  {
   "cell_type": "code",
   "execution_count": 58,
   "metadata": {},
   "outputs": [],
   "source": [
    "modes_ctpp = {'Car, truck, or van -- Drove alone': 'Car',\n",
    "         'Car, truck, or van -- In a 2-person carpool': 'Car',\n",
    "         'Car, truck, or van -- In a 3-person carpool': 'Car',\n",
    "         'Car, truck, or van -- In a 4-person carpool': 'Car',\n",
    "         'Car, truck, or van -- In a 5-or-6-person carpool': 'Car',\n",
    "         'Car, truck, or van -- In a 7-or-more-person carpool': 'Car',\n",
    "         'Bus or trolley bus': 'Bus', \n",
    "         'Streetcar or trolley car': 'Bus',\n",
    "         'Subway or elevated': 'heavy rail', \n",
    "         'Railroad' : 'other', \n",
    "         'Ferryboat': 'other', \n",
    "         'Bicycle': 'Bike', \n",
    "         'Walked': 'Walk',\n",
    "         'Taxicab': 'other',\n",
    "         'Motorcycle': 'other',\n",
    "         'Other method':'other'}\n",
    "\n",
    "ctpp_ms['ctpp_mode'] = ctpp_ms['Means of Transportation 18'].replace(modes_ctpp)\n",
    "ctpp_ms.dropna(inplace = True)\n",
    "ctpp_ms['Workers 16 and Over'] = ctpp_ms['Workers 16 and Over'].astype(int)\n",
    "\n",
    "mode_share_ctpp = ctpp_ms.groupby('ctpp_mode').sum()\n",
    "mode_share_ctpp.reset_index(inplace = True)\n",
    "mask_mode = ~mode_share_ctpp.ctpp_mode.isin(['Auto','Total, means of transportation', 'Worked at home'])\n",
    "mode_share_ctpp = mode_share_ctpp[mask_mode]\n",
    "mode_share_ctpp['suma'] = mode_share_ctpp['Workers 16 and Over'].sum()\n",
    "mode_share_ctpp['mode_share'] = mode_share_ctpp['Workers 16 and Over']/mode_share_ctpp['suma'] "
   ]
  },
  {
   "cell_type": "code",
   "execution_count": 59,
   "metadata": {},
   "outputs": [],
   "source": [
    "modes_asim = {'WALK_LRF': 'other', \n",
    "              'WALK_LOC': 'Bus', \n",
    "              'SHARED3FREE': 'Car', \n",
    "              'WALK_COM': 'other',\n",
    "              'DRIVEALONEFREE': 'Car', \n",
    "              'SHARED2FREE':'Car', \n",
    "              'BIKE': 'Bike', \n",
    "              'DRIVE_LRF': 'other',\n",
    "              'WALK': 'Walk',\n",
    "              'WALK_HVY':'heavy rail', \n",
    "              'WALK_EXP':'Bus', \n",
    "              'DRIVE_LOC': 'Bus', \n",
    "              'DRIVE_HVY':'heavy rail', \n",
    "              'DRIVE_COM':'other',\n",
    "              'DRIVEALONEPAY':'Car', \n",
    "              'SHARED2PAY':'Car', \n",
    "              'DRIVE_EXP': 'Bus',\n",
    "              'SHARED3PAY':'Car'}\n",
    "\n",
    "tours['ctpp_mode'] = tours.tour_mode.replace(modes_asim)\n",
    "tours_work = tours[tours.tour_type == 'work'] # just work trips\n",
    "\n",
    "mode_share_asim_work = pd.DataFrame(tours_work.groupby('ctpp_mode')['person_id'].count())\n",
    "mode_share_asim_work['suma'] = mode_share_asim_work['person_id'].sum()\n",
    "mode_share_asim_work['mode_share'] = mode_share_asim_work['person_id']/mode_share_asim_work['suma'] \n",
    "mode_share_asim_work.reset_index(inplace = True)"
   ]
  },
  {
   "cell_type": "code",
   "execution_count": 60,
   "metadata": {},
   "outputs": [],
   "source": [
    "mode_share_asim_work['model'] = 'Activity Sim'\n",
    "mode_share_ctpp['model'] = 'CTPP'\n",
    "join = pd.concat([mode_share_asim_work, mode_share_ctpp])"
   ]
  },
  {
   "cell_type": "code",
   "execution_count": 61,
   "metadata": {},
   "outputs": [
    {
     "data": {
      "image/png": "[encoded data removed]",
      "text/plain": [
       "<Figure size 576x360 with 1 Axes>"
      ]
     },
     "metadata": {
      "needs_background": "light"
     },
     "output_type": "display_data"
    }
   ],
   "source": [
    "fig, ax = plt.subplots(figsize = (8,5))\n",
    "sns.barplot(x='ctpp_mode', y='mode_share', hue = 'model', data = join.sort_values('mode_share', ascending=False))\n",
    "plt.xticks(rotation = 90)\n",
    "plt.title('Mode choice - Work commute \\n CTPP and ActivitySim')\n",
    "plt.ylabel('Mode share')\n",
    "plt.xlabel('Mode of transportation');"
   ]
  }
 ],
 "metadata": {
  "kernelspec": {
   "display_name": "Python 3",
   "language": "python",
   "name": "python3"
  },
  "language_info": {
   "codemirror_mode": {
    "name": "ipython",
    "version": 3
   },
   "file_extension": ".py",
   "mimetype": "text/x-python",
   "name": "python",
   "nbconvert_exporter": "python",
   "pygments_lexer": "ipython3",
   "version": "3.7.7"
  }
 },
 "nbformat": 4,
 "nbformat_minor": 4
}
