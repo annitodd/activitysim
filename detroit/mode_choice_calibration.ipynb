{
 "cells": [
  {
   "cell_type": "markdown",
   "metadata": {},
   "source": [
    "# Mode choice calibration "
   ]
  },
  {
   "cell_type": "markdown",
   "metadata": {},
   "source": [
    "- Read original coeff csv file\n",
    "- Change +- 20% of coefficients \n",
    "- Save change in a new csv file\n",
    "- Update yaml file with new file name"
   ]
  },
  {
   "cell_type": "code",
   "execution_count": 191,
   "metadata": {},
   "outputs": [],
   "source": [
    "import pandas as pd \n",
    "import yaml"
   ]
  },
  {
   "cell_type": "code",
   "execution_count": 192,
   "metadata": {},
   "outputs": [],
   "source": [
    "coeffs = pd.read_csv('configs/configs/tour_mode_choice_coeffs.csv', \n",
    "                     index_col = 'Expression')\n",
    "\n",
    "coeff_t = coeffs.drop(columns= 'atwork').T\n",
    "at_work_coeff = coeffs['atwork'].reset_index(drop = True)"
   ]
  },
  {
   "cell_type": "code",
   "execution_count": 193,
   "metadata": {},
   "outputs": [],
   "source": [
    "coeff_t['c_ivt'] = coeff_t['c_ivt'].astype(float) * 1.25"
   ]
  },
  {
   "cell_type": "code",
   "execution_count": 194,
   "metadata": {},
   "outputs": [],
   "source": [
    "coeff_t[['c_topology_walk', 'c_topology_bike', 'c_topology_trn']] = 0 "
   ]
  },
  {
   "cell_type": "code",
   "execution_count": 195,
   "metadata": {},
   "outputs": [],
   "source": [
    "#Walking coefficients \n",
    "\n",
    "# Walking ASC\n",
    "walk_asc = ['walk_ASC_no_auto', 'walk_ASC_auto_decicient', 'walk_ASC_auto_sufficient',\n",
    "            'joint_walk_ASC_no_auto', 'joint_walk_ASC_auto_decicient', \n",
    "            'joint_walk_ASC_auto_sufficient']\n",
    "\n",
    "for col_name in walk_asc:\n",
    "    col = coeff_t[col_name].astype(float)\n",
    "    col.where(col<0,col*1.3, inplace = True)  \n",
    "    col.where(col>0,col*0.7, inplace = True) \n",
    "    coeff_t[col_name] = col\n",
    "    \n",
    "# Walking time: Modify coefficient by -20%\n",
    "c_ivt_coeff = ['c_walktimeshort', 'c_walktimelong']\n",
    "for col_name in c_ivt_coeff:\n",
    "    # Split str colum in float and str part. \n",
    "    split = coeff_t[col_name].str.split('*', expand = True) \n",
    "    split[0] = (split[0].astype(float)*0.7).astype(str)\n",
    "    new_col= split[0] + '*' + split[1] \n",
    "    coeff_t[col_name] = new_col"
   ]
  },
  {
   "cell_type": "code",
   "execution_count": 196,
   "metadata": {},
   "outputs": [],
   "source": [
    "# Bike coefficients \n",
    "\n",
    "# Bike ASC\n",
    "bike_asc = ['bike_ASC_no_auto', 'bike_ASC_auto_decicient', 'bike_ASC_auto_sufficient',\n",
    "            'joint_bike_ASC_no_auto', 'joint_bike_ASC_auto_decicient', 'joint_bike_ASC_auto_sufficient']\n",
    "\n",
    "for col_name in bike_asc:\n",
    "    col = coeff_t[col_name].astype(float)\n",
    "    col.where(col<0,col*1.2, inplace = True)  \n",
    "    col.where(col>0,col*0.8, inplace = True) \n",
    "    coeff_t[col_name] = col\n",
    "    \n",
    "# Biking time: \n",
    "c_ivt_coeff = ['c_biketimeshort', 'c_biketimelong']\n",
    "for col_name in c_ivt_coeff:\n",
    "    # Split str colum in float and str part. \n",
    "    split = coeff_t[col_name].str.split('*', expand = True) \n",
    "    split[0] = (split[0].astype(float)*0.8).astype(str)\n",
    "    new_col= split[0] + '*' + split[1] \n",
    "    coeff_t[col_name] = new_col"
   ]
  },
  {
   "cell_type": "code",
   "execution_count": 197,
   "metadata": {},
   "outputs": [],
   "source": [
    "#Transit coeffs \n",
    "\n",
    "# Walk and drive to transit ASC:\n",
    "walk_drive_transit_asc = ['walk_transit_ASC_no_auto', \n",
    "                          'walk_transit_ASC_auto_decicient',\n",
    "                          'walk_transit_ASC_auto_sufficient', \n",
    "                          'drive_transit_ASC_auto_decicient',\n",
    "                          'drive_transit_ASC_auto_sufficient',\n",
    "                          'walk_transit_CBD_ASC', 'drive_transit_CBD_ASC',\n",
    "                          'local_bus_ASC', 'joint_walk_transit_ASC_no_auto',\n",
    "                          'joint_walk_transit_ASC_auto_decicient',\n",
    "                          'joint_walk_transit_ASC_auto_sufficient',\n",
    "                          'joint_drive_transit_ASC_auto_decicient',\n",
    "                          'joint_drive_transit_ASC_auto_sufficient']\n",
    "\n",
    "#Greater modification to account for waiting and transfer time \n",
    "#TO DO: Modify when better waiting and tranfer skims are available. \n",
    "for col_name in walk_drive_transit_asc:\n",
    "    col = coeff_t[col_name].astype(float)\n",
    "    col.where(col>0,col*2.0, inplace = True)\n",
    "    col.where(col<0,col*0.5, inplace = True)\n",
    "    coeff_t[col_name] = col\n",
    "    \n",
    "    \n",
    "# Walk access and egress for Transit. #20% greater For walk to transit options\n",
    "c_ivt_coeff = ['c_wacc', 'c_wegr']\n",
    "for col_name in c_ivt_coeff:\n",
    "    # Split str colum in float and str part. \n",
    "    split = coeff_t[col_name].str.split('*', expand = True) \n",
    "    split[0] = (split[0].astype(float)*1.3).astype(str)\n",
    "    new_col= split[0] + '*' + split[1] \n",
    "    coeff_t[col_name] = new_col"
   ]
  },
  {
   "cell_type": "code",
   "execution_count": 198,
   "metadata": {},
   "outputs": [],
   "source": [
    "# Cars coefficients \n",
    "\n",
    "# shared ASC. 20% less\n",
    "walk_asc = ['sr2_ASC_auto_decicient','sr2_ASC_auto_sufficient', 'sr3p_ASC_no_auto', \n",
    "            'sr3p_ASC_auto_decicient','sr3p_ASC_auto_sufficient', 'joint_sr3p_ASC_no_auto',\n",
    "            'joint_sr3p_ASC_auto_decicient', 'joint_sr3p_ASC_auto_sufficient']\n",
    "for col_name in walk_asc:\n",
    "    col = coeff_t[col_name].astype(float)\n",
    "    col.where(col<0,col*0.7, inplace = True)  \n",
    "    col.where(col>0,col*1.3, inplace = True) \n",
    "    coeff_t[col_name] = col"
   ]
  },
  {
   "cell_type": "code",
   "execution_count": 199,
   "metadata": {},
   "outputs": [],
   "source": [
    "#Transpose and append 'atwork' coefficients\n",
    "coeff_final = coeff_t.T.reset_index()\n",
    "coeff_final['atwork'] = at_work_coeff\n",
    "\n",
    "#Saves files as V2\n",
    "new_name = 'tour_mode_choice_coeffs_v2.csv'\n",
    "coeff_final.to_csv('configs/configs/'+ new_name, index = False)"
   ]
  },
  {
   "cell_type": "markdown",
   "metadata": {},
   "source": [
    "## Modify YAML file"
   ]
  },
  {
   "cell_type": "code",
   "execution_count": 200,
   "metadata": {},
   "outputs": [],
   "source": [
    "#Tour .yaml file \n",
    "yaml_file = open('configs/configs/tour_mode_choice.yaml')\n",
    "model_settings = yaml.load(yaml_file, Loader=yaml.FullLoader)"
   ]
  },
  {
   "cell_type": "code",
   "execution_count": 201,
   "metadata": {},
   "outputs": [
    {
     "data": {
      "text/plain": [
       "0.72"
      ]
     },
     "execution_count": 201,
     "metadata": {},
     "output_type": "execute_result"
    }
   ],
   "source": [
    "model_settings['NESTS']['alternatives'][2]['coefficient'] = 0.72\n",
    "model_settings['NESTS']['alternatives'][2]['coefficient'] "
   ]
  },
  {
   "cell_type": "code",
   "execution_count": 202,
   "metadata": {},
   "outputs": [],
   "source": [
    "model_settings['CONSTANTS']['bikeThresh'] = 8.0 #Before 6"
   ]
  },
  {
   "cell_type": "code",
   "execution_count": 203,
   "metadata": {},
   "outputs": [],
   "source": [
    "# Change CostPerMile \n",
    "model_settings['CONSTANTS']['costPerMile'] = 18.29 * 0.6 #Reduce cost per mile\n",
    "\n",
    "#Walk speed and treshold\n",
    "model_settings['CONSTANTS']['walkThresh'] = 2 # Before 1.5\n",
    "model_settings['CONSTANTS']['walkSpeed'] = 3.5 #Before 3.0\n",
    "\n",
    "#Modify Coeffs.csv file \n",
    "model_settings['COEFFS'] = new_name\n",
    "\n",
    "#Saves File \n",
    "with open('configs/configs/tour_mode_choice.yaml', 'w') as file:\n",
    "    documents = yaml.dump(model_settings, file)"
   ]
  },
  {
   "cell_type": "code",
   "execution_count": 204,
   "metadata": {},
   "outputs": [],
   "source": [
    "#Trips .yaml file \n",
    "yaml_file = open('configs/configs/trip_mode_choice.yaml')\n",
    "model_settings = yaml.load(yaml_file, Loader=yaml.FullLoader)\n",
    "\n",
    "model_settings['CONSTANTS']['costPerMile'] = 18.29 * 0.6 #Reduce cost per mile\n",
    "model_settings['CONSTANTS']['walkThresh'] = 2 # Before 1.5\n",
    "model_settings['CONSTANTS']['walkSpeed'] = 3.5 #Before 3.0\n",
    "\n",
    "#Saves file\n",
    "with open('configs/configs/trip_mode_choice.yaml', 'w') as file:\n",
    "    documents = yaml.dump(model_settings, file)"
   ]
  },
  {
   "cell_type": "code",
   "execution_count": null,
   "metadata": {},
   "outputs": [],
   "source": []
  },
  {
   "cell_type": "code",
   "execution_count": null,
   "metadata": {},
   "outputs": [],
   "source": []
  }
 ],
 "metadata": {
  "kernelspec": {
   "display_name": "Python 3",
   "language": "python",
   "name": "python3"
  },
  "language_info": {
   "codemirror_mode": {
    "name": "ipython",
    "version": 3
   },
   "file_extension": ".py",
   "mimetype": "text/x-python",
   "name": "python",
   "nbconvert_exporter": "python",
   "pygments_lexer": "ipython3",
   "version": "3.7.7"
  }
 },
 "nbformat": 4,
 "nbformat_minor": 4
}
