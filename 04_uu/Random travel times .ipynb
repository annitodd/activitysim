{
 "cells": [
  {
   "cell_type": "code",
   "execution_count": 1,
   "id": "brave-cabinet",
   "metadata": {},
   "outputs": [],
   "source": [
    "import pandas as pd \n",
    "import numpy as np "
   ]
  },
  {
   "cell_type": "code",
   "execution_count": 4,
   "id": "classified-methodology",
   "metadata": {},
   "outputs": [],
   "source": [
    "hdf = pd.HDFStore('output/pipeline.h5')"
   ]
  },
  {
   "cell_type": "code",
   "execution_count": 5,
   "id": "talented-channel",
   "metadata": {},
   "outputs": [
    {
     "data": {
      "text/plain": [
       "['/checkpoints']"
      ]
     },
     "execution_count": 5,
     "metadata": {},
     "output_type": "execute_result"
    }
   ],
   "source": [
    "hdf.keys()"
   ]
  },
  {
   "cell_type": "code",
   "execution_count": 6,
   "id": "electrical-benchmark",
   "metadata": {},
   "outputs": [
    {
     "data": {
      "text/html": [
       "<div>\n",
       "<style scoped>\n",
       "    .dataframe tbody tr th:only-of-type {\n",
       "        vertical-align: middle;\n",
       "    }\n",
       "\n",
       "    .dataframe tbody tr th {\n",
       "        vertical-align: top;\n",
       "    }\n",
       "\n",
       "    .dataframe thead th {\n",
       "        text-align: right;\n",
       "    }\n",
       "</style>\n",
       "<table border=\"1\" class=\"dataframe\">\n",
       "  <thead>\n",
       "    <tr style=\"text-align: right;\">\n",
       "      <th></th>\n",
       "      <th>checkpoint_name</th>\n",
       "      <th>timestamp</th>\n",
       "    </tr>\n",
       "  </thead>\n",
       "  <tbody>\n",
       "    <tr>\n",
       "      <th>0</th>\n",
       "      <td>init</td>\n",
       "      <td>2021-05-11 20:55:25.188966</td>\n",
       "    </tr>\n",
       "    <tr>\n",
       "      <th>1</th>\n",
       "      <td>create_inputs_from_usim_data</td>\n",
       "      <td>2021-05-11 20:55:25.200510</td>\n",
       "    </tr>\n",
       "  </tbody>\n",
       "</table>\n",
       "</div>"
      ],
      "text/plain": [
       "                checkpoint_name                  timestamp\n",
       "0                          init 2021-05-11 20:55:25.188966\n",
       "1  create_inputs_from_usim_data 2021-05-11 20:55:25.200510"
      ]
     },
     "execution_count": 6,
     "metadata": {},
     "output_type": "execute_result"
    }
   ],
   "source": [
    "hdf['/checkpoints']"
   ]
  },
  {
   "cell_type": "code",
   "execution_count": 7,
   "id": "tested-decrease",
   "metadata": {},
   "outputs": [],
   "source": [
    "plans = hdf['/plans']\n",
    "trips = hdf['/trips']\n",
    "tours = hdf['/tours']"
   ]
  },
  {
   "cell_type": "code",
   "execution_count": 8,
   "id": "functioning-certificate",
   "metadata": {},
   "outputs": [],
   "source": [
    "def generate_departure_times(trips, tours):\n",
    "\n",
    "    trips[\"inbound\"] = ~trips.outbound\n",
    "    trips[\"tour_start\"] = trips.tour_id.map(tours.start)\n",
    "    trips[\"tour_end\"] = trips.tour_id.map(tours.end)\n",
    "\n",
    "    # TO DO: fractional times must respect the original order of trips!!!!\n",
    "    df = trips[[\n",
    "        'person_id', 'depart', 'tour_start', 'tour_end', 'tour_id', 'inbound',\n",
    "        'trip_num']].reset_index().drop_duplicates('trip_id')\n",
    "    df['frac'] = np.random.rand(len(df),)\n",
    "    df.index.name = 'og_df_idx'\n",
    "\n",
    "    # Making sure trips within the hour are sequential\n",
    "    ordered_trips = df.sort_values(by=[\n",
    "        'person_id', 'depart', 'frac', 'tour_start', 'tour_end', 'tour_id',\n",
    "        'inbound', 'trip_num']).reset_index()\n",
    "    df2 = df.sort_values(by=[\n",
    "        'person_id', 'depart', 'tour_start', 'tour_end',\n",
    "        'tour_id', 'inbound', 'trip_num']).reset_index()\n",
    "    df2['fractional'] = ordered_trips.frac\n",
    "\n",
    "    # Adding fractional to int hour\n",
    "    df2['depart'] = np.round(df2['depart'] + df2['fractional'], 3)\n",
    "    df2.set_index('og_df_idx', inplace=True)\n",
    "    df2 = df2.reindex(df.index)\n",
    "    df2.set_index('trip_id', inplace=True)\n",
    "    df2 = df2.reindex(trips.index)\n",
    "    return df2.depart"
   ]
  },
  {
   "cell_type": "code",
   "execution_count": 22,
   "id": "explicit-puppy",
   "metadata": {},
   "outputs": [
    {
     "data": {
      "text/plain": [
       "Index(['person_id', 'household_id', 'tour_id', 'primary_purpose', 'trip_num',\n",
       "       'outbound', 'trip_count', 'purpose', 'destination', 'origin',\n",
       "       'destination_logsum', 'depart', 'trip_mode', 'mode_choice_logsum',\n",
       "       'inbound', 'tour_start', 'tour_end'],\n",
       "      dtype='object')"
      ]
     },
     "execution_count": 22,
     "metadata": {},
     "output_type": "execute_result"
    }
   ],
   "source": [
    "trips.columns"
   ]
  },
  {
   "cell_type": "code",
   "execution_count": 23,
   "id": "arbitrary-treaty",
   "metadata": {},
   "outputs": [],
   "source": [
    "trips['departure_time_mins'] = generate_departure_times(trips, tours)"
   ]
  },
  {
   "cell_type": "code",
   "execution_count": 27,
   "id": "german-tradition",
   "metadata": {},
   "outputs": [],
   "source": [
    "trips.trip_mode.unique()\n",
    "car_modes = ['SHARED2FREE', 'SHARED2PAY', 'SHARED3FREE', 'DRIVEALONEFREE',\n",
    "       'DRIVEALONEPAY','SHARED3PAY', 'TAXI',\n",
    "       'TNC_SHARED', 'TNC_SINGLE']"
   ]
  },
  {
   "cell_type": "code",
   "execution_count": 29,
   "id": "relevant-local",
   "metadata": {},
   "outputs": [],
   "source": [
    "car_trips = trips[trips.trip_mode.isin(car_modes)]"
   ]
  },
  {
   "cell_type": "code",
   "execution_count": 42,
   "id": "encouraging-raleigh",
   "metadata": {},
   "outputs": [
    {
     "data": {
      "image/png": "[encoded data removed]",
      "text/plain": [
       "<Figure size 432x288 with 1 Axes>"
      ]
     },
     "metadata": {
      "needs_background": "light"
     },
     "output_type": "display_data"
    }
   ],
   "source": [
    "car_trips['departure_time_mins'].plot.hist(bins = 228).get_figure().savefig('departure_time_cars.jpeg')"
   ]
  },
  {
   "cell_type": "code",
   "execution_count": 21,
   "id": "industrial-major",
   "metadata": {},
   "outputs": [
    {
     "data": {
      "text/plain": [
       "<AxesSubplot:ylabel='Frequency'>"
      ]
     },
     "execution_count": 21,
     "metadata": {},
     "output_type": "execute_result"
    },
    {
     "data": {
      "image/png": "[encoded data removed]",
      "text/plain": [
       "<Figure size 432x288 with 1 Axes>"
      ]
     },
     "metadata": {
      "needs_background": "light"
     },
     "output_type": "display_data"
    }
   ],
   "source": [
    "trips2.plot.hist(bins = 280)"
   ]
  },
  {
   "cell_type": "code",
   "execution_count": 25,
   "id": "talented-transaction",
   "metadata": {},
   "outputs": [
    {
     "data": {
      "text/plain": [
       "<AxesSubplot:ylabel='Frequency'>"
      ]
     },
     "execution_count": 25,
     "metadata": {},
     "output_type": "execute_result"
    },
    {
     "data": {
      "image/png": "[encoded data removed]",
      "text/plain": [
       "<Figure size 432x288 with 1 Axes>"
      ]
     },
     "metadata": {
      "needs_background": "light"
     },
     "output_type": "display_data"
    }
   ],
   "source": [
    "trips2.plot.hist(bins = 19)"
   ]
  },
  {
   "cell_type": "code",
   "execution_count": 17,
   "id": "sticky-cleanup",
   "metadata": {},
   "outputs": [
    {
     "data": {
      "text/plain": [
       "5.0"
      ]
     },
     "execution_count": 17,
     "metadata": {},
     "output_type": "execute_result"
    }
   ],
   "source": []
  },
  {
   "cell_type": "code",
   "execution_count": null,
   "id": "official-identifier",
   "metadata": {},
   "outputs": [],
   "source": []
  }
 ],
 "metadata": {
  "kernelspec": {
   "display_name": "Python 3",
   "language": "python",
   "name": "python3"
  },
  "language_info": {
   "codemirror_mode": {
    "name": "ipython",
    "version": 3
   },
   "file_extension": ".py",
   "mimetype": "text/x-python",
   "name": "python",
   "nbconvert_exporter": "python",
   "pygments_lexer": "ipython3",
   "version": "3.9.2"
  }
 },
 "nbformat": 4,
 "nbformat_minor": 5
}
